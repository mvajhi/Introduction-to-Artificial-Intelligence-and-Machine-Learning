{
 "cells": [
  {
   "cell_type": "markdown",
   "metadata": {},
   "source": [
    "# ca1 : الگوریتم ژنتیک\n",
    "#### mahdi vajhi\n",
    "#### 810101558\n",
    "<p dir=rtl style=\"text-align:right\">\n",
    "هدف از این پروژه حل مسئله \n",
    "Problem Knapsack\n",
    "با استفاده از الگوریتم ژنتیک است. ما در این مسئله باید حالت بهینه از غذا ها را که شرایط ورودی را داشته باشد پیدا کنیم.\n",
    "برای این کار ما ابتدا باید ساختار کروموزوم های خود را تعریف کنیم که دارای قابلیت تلفیق با بقیه و جهش را داشته باشد. سپس باید تعدادی کروموزوم اولیه تولید کنیم و با پیاده سازی یک تابع فیتنس برای آنها میزان خوب بودن آنها را بسنجیم این تابع باید به شرایط مسئله حساس باشد و همچنین میزان خوب بودن ژن ها را نشان دهد. سپس باید تابعی برای تولید نسل بعدی نوشت که ابتدا کروموزوم ها را جفت کند سپس آنها را تلفیق کند و در نهایت آنها را جهش دهد. در آخر هم باید نتایج را بررسی کرد و جواب به دست آمده را بررسی کنیم.\n",
    "</p>"
   ]
  },
  {
   "cell_type": "markdown",
   "metadata": {},
   "source": [
    "## initial block"
   ]
  },
  {
   "cell_type": "code",
   "execution_count": 240,
   "metadata": {},
   "outputs": [],
   "source": [
    "import random\n",
    "import pandas as pd\n",
    "import numpy as np\n",
    "import copy\n",
    "\n",
    "\n",
    "GEN_ACTIVE_RATE = 0.5\n",
    "WIGHT_MUTATION_RATE = 0.05\n",
    "MIN_WIGHT = 0.5\n",
    "IS_WIGHT_MUTATION_IF_DEACTIVATE = True\n",
    "FIRST_CHROMOSOMES_COUNT = 10"
   ]
  },
  {
   "cell_type": "markdown",
   "metadata": {},
   "source": [
    "## تعریف کروموزوم و ژن ها\n",
    "<p dir=rtl>\n",
    "در این مسئله با توجه به این که طول کروموزوم باید ثابت باشد و همچنین تعداد غذا ها ثابت است می توانیم کروموزوم را فهرست تمام غذا ها بگذاریم که با یک متغییر مشخص شود که آیا آن غذا را می بریم یا خیر و اگر می بریم چه مقدار از آن را می بریم. پس در این مسئله ژن ها همان غذا ها هستند که می تواند فعال یا غیر فعال باشند.\n",
    "</p>"
   ]
  },
  {
   "cell_type": "markdown",
   "metadata": {},
   "source": [
    "### ژن ها\n",
    "<p dir=rtl>\n",
    "کلاس ژن در واقع نماینده یک غذا است که در آن نام، حداکثر مقدار موجود، فعال بودن آن، چگالی ارزش آن و وزن الان آن است.\n",
    "</p>\n",
    "<p dir=rtl>\n",
    "در تابع جهش ژن با احتمالی که تعیین شده می تواند فعال یا غیر فعال شود\n",
    "همچنین وزن آن با یک توزیع نرمال حول مقدار قبلی خود تغییر می کند. توزیع به گونه ای تنظیم شده که انحراف معیار به اندازه یک ثابت بین ۰ تا ۱ در مقدار وزن باشد که تغییر معقول باشد. همچنین شرطی گذاشته شده که آیا درموقع غیر فعال بودن ژن وزن آن جهش کند یا خیر\n",
    "</p>\n"
   ]
  },
  {
   "cell_type": "code",
   "execution_count": 241,
   "metadata": {},
   "outputs": [],
   "source": [
    "class Gen:\n",
    "    def __init__(self, name:str, max_weight:float, value_per_weight:float\n",
    "                 , weight:float=0, is_active:bool=False):\n",
    "        self.name = name\n",
    "        self.max_weight = max_weight\n",
    "        self.vpw = value_per_weight\n",
    "        self.is_active = is_active\n",
    "        self.weight = weight\n",
    "\n",
    "    def set_random_gen(self):\n",
    "        self.set_random_gen_status()\n",
    "        self.set_random_wight()\n",
    "    def set_random_gen_status(self):\n",
    "        self.is_active = random.choice([True, False])\n",
    "    def set_random_wight(self):\n",
    "        self.weight = round(random.uniform(MIN_WIGHT, self.max_weight),1)\n",
    "\n",
    "    def mutation(self):\n",
    "        if IS_WIGHT_MUTATION_IF_DEACTIVATE or self.is_active:\n",
    "            self.weight_mutation()\n",
    "        self.active_mutation()\n",
    "    def active_mutation(self):\n",
    "        self.is_active = self.is_active if random.random() < GEN_ACTIVE_RATE\\\n",
    "                    else not self.is_active\n",
    "    def weight_mutation(self):\n",
    "        std = self.weight * WIGHT_MUTATION_RATE\n",
    "        self.weight = np.random.normal(self.weight, std, 1)[0]\n",
    "        # fix number in range and round\n",
    "        self.weight = round((max(MIN_WIGHT, min(self.max_weight, self.weight))),1)\n",
    "        \n",
    "    # Getters\n",
    "    def get_weight(self):\n",
    "        return self.max_weight if self.is_active else 0\n",
    "    def get_value(self):\n",
    "        return self.max_weight * self.vpw if self.is_active else 0\n",
    "    def get_name(self):\n",
    "        return self.name\n",
    "    def get_is_active(self):\n",
    "        return self.is_active\n",
    "    def __str__(self):\n",
    "        return \"------------\\n\" + f\"name: {self.name}\\nstatus: {self.is_active}\\n\" +\\\n",
    "        f\"weight: {self.weight}\\nmax weight: {self.max_weight}\\nvpw: {self.vpw:.2f}\"\n",
    "    def __repr__(self):\n",
    "        return self.__str__()"
   ]
  },
  {
   "cell_type": "markdown",
   "metadata": {},
   "source": [
    "### کروموزوم ها\n",
    "<p dir=rtl>\n",
    "کلاس کروموزوم صرفا اجماع ژن ها است و توابع آن صرفا روی ژن ها حلقه می زند.\n",
    "</p>"
   ]
  },
  {
   "cell_type": "code",
   "execution_count": 242,
   "metadata": {},
   "outputs": [],
   "source": [
    "class Chromosome:\n",
    "    def __init__(self, gens:list[Gen]):\n",
    "        self.gens = gens\n",
    "\n",
    "    def mutation(self):\n",
    "        for i in self.gens:\n",
    "            i.mutation()\n",
    "\n",
    "    # Getters\n",
    "    def get_weight(self):\n",
    "        return sum([i.get_weight() for i in self.gens])\n",
    "    def get_value(self):\n",
    "        return sum([i.get_value() for i in self.gens])\n",
    "    def get_vpw(self):\n",
    "        return self.get_value() / self.get_weight()\n",
    "    def get_name(self):\n",
    "        return [i.get_name() for i in self.gens]\n",
    "    def get_active_count(self):\n",
    "        return sum([i.get_is_active() for i in self.gens])\n",
    "    \n",
    "    def __str__(self):\n",
    "        return \"__________\\n\"+\\\n",
    "                f\"active_count: {self.get_active_count()}\\n\"+\\\n",
    "                f\"weight: {self.get_weight()}\\n\"+\\\n",
    "                f\"value: {self.get_value()}\\n\"+\\\n",
    "                f\"vpw: {self.get_vpw():.2f}\"\n",
    "    def __repr__(self):\n",
    "        return self.__str__()"
   ]
  },
  {
   "cell_type": "markdown",
   "metadata": {},
   "source": [
    "## تولید جمعیت اولیه\n",
    "<p dir=rtl>\n",
    "در این قسمت باید جامعه اولیه را تولید کنیم که شامل مراجل زیر است:\n",
    "</p>\n",
    "<ol dir=rtl>\n",
    "    <li> خواندن داده ها </li>\n",
    "    <li> تولید ژن خام از غذا ها </li>\n",
    "    <li> تولید کرموزوم ها با ژن های خام و مقدار دهی شانسی وزن آنها و وضعیت شانسی فعال بودن ژن ها </li>\n",
    "</ol>"
   ]
  },
  {
   "cell_type": "markdown",
   "metadata": {},
   "source": [
    "### read data\n",
    "<p dir=rtl style=\"text-align:right\">\n",
    "در این قسمت فایل\n",
    "snacks.csv\n",
    "را لود می کنیم که داده های غذا های مربوط به پروژه در آن قرار دارد\n",
    "</p>"
   ]
  },
  {
   "cell_type": "code",
   "execution_count": 243,
   "metadata": {},
   "outputs": [
    {
     "data": {
      "text/html": [
       "<div>\n",
       "<style scoped>\n",
       "    .dataframe tbody tr th:only-of-type {\n",
       "        vertical-align: middle;\n",
       "    }\n",
       "\n",
       "    .dataframe tbody tr th {\n",
       "        vertical-align: top;\n",
       "    }\n",
       "\n",
       "    .dataframe thead th {\n",
       "        text-align: right;\n",
       "    }\n",
       "</style>\n",
       "<table border=\"1\" class=\"dataframe\">\n",
       "  <thead>\n",
       "    <tr style=\"text-align: right;\">\n",
       "      <th></th>\n",
       "      <th>Snack</th>\n",
       "      <th>Available Weight</th>\n",
       "      <th>Value</th>\n",
       "    </tr>\n",
       "  </thead>\n",
       "  <tbody>\n",
       "    <tr>\n",
       "      <th>0</th>\n",
       "      <td>MazMaz</td>\n",
       "      <td>10</td>\n",
       "      <td>10</td>\n",
       "    </tr>\n",
       "    <tr>\n",
       "      <th>1</th>\n",
       "      <td>Doogh-e-Abali</td>\n",
       "      <td>15</td>\n",
       "      <td>10</td>\n",
       "    </tr>\n",
       "    <tr>\n",
       "      <th>2</th>\n",
       "      <td>Nani</td>\n",
       "      <td>5</td>\n",
       "      <td>5</td>\n",
       "    </tr>\n",
       "    <tr>\n",
       "      <th>3</th>\n",
       "      <td>Jooj</td>\n",
       "      <td>7</td>\n",
       "      <td>15</td>\n",
       "    </tr>\n",
       "    <tr>\n",
       "      <th>4</th>\n",
       "      <td>Hot-Dog</td>\n",
       "      <td>20</td>\n",
       "      <td>15</td>\n",
       "    </tr>\n",
       "    <tr>\n",
       "      <th>5</th>\n",
       "      <td>Chips</td>\n",
       "      <td>8</td>\n",
       "      <td>6</td>\n",
       "    </tr>\n",
       "    <tr>\n",
       "      <th>6</th>\n",
       "      <td>Nooshaba</td>\n",
       "      <td>12</td>\n",
       "      <td>8</td>\n",
       "    </tr>\n",
       "    <tr>\n",
       "      <th>7</th>\n",
       "      <td>Shokolat</td>\n",
       "      <td>6</td>\n",
       "      <td>7</td>\n",
       "    </tr>\n",
       "    <tr>\n",
       "      <th>8</th>\n",
       "      <td>Chocoroll</td>\n",
       "      <td>9</td>\n",
       "      <td>12</td>\n",
       "    </tr>\n",
       "    <tr>\n",
       "      <th>9</th>\n",
       "      <td>Cookies</td>\n",
       "      <td>11</td>\n",
       "      <td>11</td>\n",
       "    </tr>\n",
       "    <tr>\n",
       "      <th>10</th>\n",
       "      <td>Abnabat</td>\n",
       "      <td>4</td>\n",
       "      <td>4</td>\n",
       "    </tr>\n",
       "    <tr>\n",
       "      <th>11</th>\n",
       "      <td>Adams-Khersi</td>\n",
       "      <td>14</td>\n",
       "      <td>9</td>\n",
       "    </tr>\n",
       "    <tr>\n",
       "      <th>12</th>\n",
       "      <td>Popcorn</td>\n",
       "      <td>16</td>\n",
       "      <td>13</td>\n",
       "    </tr>\n",
       "    <tr>\n",
       "      <th>13</th>\n",
       "      <td>Pastil</td>\n",
       "      <td>3</td>\n",
       "      <td>7</td>\n",
       "    </tr>\n",
       "    <tr>\n",
       "      <th>14</th>\n",
       "      <td>Tordilla</td>\n",
       "      <td>10</td>\n",
       "      <td>9</td>\n",
       "    </tr>\n",
       "    <tr>\n",
       "      <th>15</th>\n",
       "      <td>Masghati</td>\n",
       "      <td>5</td>\n",
       "      <td>6</td>\n",
       "    </tr>\n",
       "    <tr>\n",
       "      <th>16</th>\n",
       "      <td>Ghottab</td>\n",
       "      <td>7</td>\n",
       "      <td>10</td>\n",
       "    </tr>\n",
       "    <tr>\n",
       "      <th>17</th>\n",
       "      <td>Saghe-Talaei</td>\n",
       "      <td>9</td>\n",
       "      <td>11</td>\n",
       "    </tr>\n",
       "    <tr>\n",
       "      <th>18</th>\n",
       "      <td>Choob-Shoor</td>\n",
       "      <td>13</td>\n",
       "      <td>12</td>\n",
       "    </tr>\n",
       "  </tbody>\n",
       "</table>\n",
       "</div>"
      ],
      "text/plain": [
       "            Snack  Available Weight  Value\n",
       "0          MazMaz                10     10\n",
       "1   Doogh-e-Abali                15     10\n",
       "2            Nani                 5      5\n",
       "3            Jooj                 7     15\n",
       "4         Hot-Dog                20     15\n",
       "5           Chips                 8      6\n",
       "6        Nooshaba                12      8\n",
       "7        Shokolat                 6      7\n",
       "8       Chocoroll                 9     12\n",
       "9         Cookies                11     11\n",
       "10        Abnabat                 4      4\n",
       "11   Adams-Khersi                14      9\n",
       "12        Popcorn                16     13\n",
       "13         Pastil                 3      7\n",
       "14       Tordilla                10      9\n",
       "15       Masghati                 5      6\n",
       "16        Ghottab                 7     10\n",
       "17   Saghe-Talaei                 9     11\n",
       "18    Choob-Shoor                13     12"
      ]
     },
     "execution_count": 243,
     "metadata": {},
     "output_type": "execute_result"
    }
   ],
   "source": [
    "snacks = pd.read_csv('./snacks.csv')\n",
    "snacks"
   ]
  },
  {
   "cell_type": "markdown",
   "metadata": {},
   "source": [
    "### ساخت ژن های خام\n",
    "<p dir=rtl>\n",
    "در این قسمت داده های جدول را باید به ژن ها تبدیل کنیم اما مقدار وزن و فعال بودن آن در کروموزوم تعیین می شود\n",
    "</p>"
   ]
  },
  {
   "cell_type": "code",
   "execution_count": 244,
   "metadata": {},
   "outputs": [],
   "source": [
    "row_gens = list[Gen]()\n",
    "for i in snacks.iterrows():\n",
    "    name, max_weight, value = i[1]\n",
    "    row_gens.append(Gen(name, max_weight, value/max_weight))"
   ]
  },
  {
   "cell_type": "code",
   "execution_count": 245,
   "metadata": {},
   "outputs": [
    {
     "name": "stdout",
     "output_type": "stream",
     "text": [
      "------------\n",
      "name: MazMaz\n",
      "status: False\n",
      "weight: 0\n",
      "max weight: 10\n",
      "vpw: 1.00\n",
      "------------\n",
      "name: Doogh-e-Abali\n",
      "status: False\n",
      "weight: 0\n",
      "max weight: 15\n",
      "vpw: 0.67\n"
     ]
    }
   ],
   "source": [
    "for i in row_gens[:2]:\n",
    "    print(i)"
   ]
  },
  {
   "cell_type": "markdown",
   "metadata": {},
   "source": [
    "### ساخت کروموزوم های اولیه\n",
    "<p dir=rtl>\n",
    "در این قسمت ژن ها را برای هر کروموزوم مقدار شانسی می دهیم و کروموزوم های اولیه را می سازیم. برای تعداد جمعیت پارامتر هایی تعریف می کنیم.\n",
    "</p>"
   ]
  },
  {
   "cell_type": "markdown",
   "metadata": {},
   "source": [
    "<p dir=rtl>\n",
    "تابع زیر با استفاده از ژن های خام یک کروموزوم رندوم می سازد\n",
    "</p>"
   ]
  },
  {
   "cell_type": "code",
   "execution_count": 246,
   "metadata": {},
   "outputs": [],
   "source": [
    "def create_random_chromosome() -> Chromosome:\n",
    "    gens = list[Gen]()\n",
    "    for i in row_gens:\n",
    "        new_gen = copy.deepcopy(i)\n",
    "        new_gen.set_random_gen()\n",
    "        gens.append(new_gen)\n",
    "    return Chromosome(gens)"
   ]
  },
  {
   "cell_type": "markdown",
   "metadata": {},
   "source": [
    "<p dir=rtl>\n",
    "تابع زیر با کمک تابع قبل کروموزوم های اولیه را می سازد\n",
    "</p>"
   ]
  },
  {
   "cell_type": "code",
   "execution_count": 247,
   "metadata": {},
   "outputs": [],
   "source": [
    "def create_first_chromosomes() -> list[Chromosome]:\n",
    "    first_chromosomes = list[Chromosome]()\n",
    "    for _ in range(FIRST_CHROMOSOMES_COUNT):\n",
    "        first_chromosomes.append(create_random_chromosome())\n",
    "    return first_chromosomes"
   ]
  },
  {
   "cell_type": "markdown",
   "metadata": {},
   "source": [
    "<p dir=rtl>\n",
    "کارکرد آن را بررسی می کنیم\n",
    "</p>"
   ]
  },
  {
   "cell_type": "code",
   "execution_count": 248,
   "metadata": {},
   "outputs": [
    {
     "name": "stdout",
     "output_type": "stream",
     "text": [
      "###############\n",
      "__________\n",
      "active_count: 11\n",
      "weight: 108\n",
      "value: 100.0\n",
      "vpw: 0.93\n",
      "__________\n",
      "------------\n",
      "name: MazMaz\n",
      "status: False\n",
      "weight: 7.8\n",
      "max weight: 10\n",
      "vpw: 1.00\n",
      "------------\n",
      "name: Doogh-e-Abali\n",
      "status: True\n",
      "weight: 14.2\n",
      "max weight: 15\n",
      "vpw: 0.67\n",
      "###############\n",
      "__________\n",
      "active_count: 6\n",
      "weight: 63\n",
      "value: 61.0\n",
      "vpw: 0.97\n",
      "__________\n",
      "------------\n",
      "name: MazMaz\n",
      "status: False\n",
      "weight: 7.8\n",
      "max weight: 10\n",
      "vpw: 1.00\n",
      "------------\n",
      "name: Doogh-e-Abali\n",
      "status: False\n",
      "weight: 2.3\n",
      "max weight: 15\n",
      "vpw: 0.67\n"
     ]
    }
   ],
   "source": [
    "test = create_first_chromosomes()\n",
    "for i in test[:2]:\n",
    "    print(r'###############')\n",
    "    print(i)\n",
    "    print(r'__________')\n",
    "    for j in i.gens[:2]:\n",
    "        print(j)"
   ]
  }
 ],
 "metadata": {
  "kernelspec": {
   "display_name": "Python 3 (ipykernel)",
   "language": "python",
   "name": "python3"
  },
  "language_info": {
   "codemirror_mode": {
    "name": "ipython",
    "version": 3
   },
   "file_extension": ".py",
   "mimetype": "text/x-python",
   "name": "python",
   "nbconvert_exporter": "python",
   "pygments_lexer": "ipython3",
   "version": "3.10.12"
  }
 },
 "nbformat": 4,
 "nbformat_minor": 2
}
