{
 "cells": [
  {
   "cell_type": "markdown",
   "metadata": {},
   "source": [
    "# ca1 : الگوریتم ژنتیک\n",
    "#### mahdi vajhi\n",
    "#### 810101558\n",
    "<p dir=rtl style=\"text-align:right\">\n",
    "هدف از این پروژه حل مسئله \n",
    "Problem Knapsack\n",
    "با استفاده از الگوریتم ژنتیک است. ما در این مسئله باید حالت بهینه از غذا ها را که شرایط ورودی را داشته باشد پیدا کنیم.\n",
    "برای این کار ما ابتدا باید ساختار کروموزوم های خود را تعریف کنیم که دارای قابلیت تلفیق با بقیه و جهش را داشته باشد. سپس باید تعدادی کروموزوم اولیه تولید کنیم و با پیاده سازی یک تابع فیتنس برای آنها میزان خوب بودن آنها را بسنجیم این تابع باید به شرایط مسئله حساس باشد و همچنین میزان خوب بودن ژن ها را نشان دهد. سپس باید تابعی برای تولید نسل بعدی نوشت که ابتدا کروموزوم ها را جفت کند سپس آنها را تلفیق کند و در نهایت آنها را جهش دهد. در آخر هم باید نتایج را بررسی کرد و جواب به دست آمده را بررسی کنیم.\n",
    "</p>"
   ]
  },
  {
   "cell_type": "markdown",
   "metadata": {},
   "source": [
    "## initial block"
   ]
  },
  {
   "cell_type": "markdown",
   "metadata": {},
   "source": [
    "<p dir=rtl>\n",
    "ثابت های زیر مقدار اولیه هستند و در آخر مقادیر متفاوت نیز آزمایش شده\n",
    "</p>"
   ]
  },
  {
   "cell_type": "code",
   "execution_count": 287,
   "metadata": {},
   "outputs": [],
   "source": [
    "import random\n",
    "import pandas as pd\n",
    "import numpy as np\n",
    "import copy\n",
    "import bisect \n",
    "\n",
    "\n",
    "GEN_ACTIVE_RATE = 0.5\n",
    "WIGHT_MUTATION_RATE = 0.05\n",
    "MIN_WEIGHT = 0.5\n",
    "IS_WIGHT_MUTATION_IF_DEACTIVATE = True\n",
    "FIRST_GENERATION_COUNT = 10\n",
    "CROSSOVER_CHANCE = 1/3\n",
    "SWAP_CHANCE_IN_CROSSOVER = 1/5\n",
    "POSITIVE_VALUE_RATE = 0.1\n",
    "POSITIVE_WEIGHT_RATE = 0\n",
    "POSITIVE_COUNT_RATE = 0\n",
    "FITNESS_VALUE_RATE = 1\n",
    "FITNESS_WEIGHT_RATE = 1\n",
    "FITNESS_COUNT_RATE = 1\n",
    "HAVE_CROSSOVER = True\n",
    "HAVE_MUTATION = True\n",
    "GENERATION_STEP = 1000\n",
    "INCREASE_GENERATION_RATE = 1\n",
    "OLD_CHORMO_COUNT = 5"
   ]
  },
  {
   "cell_type": "markdown",
   "metadata": {},
   "source": [
    "## تعریف کروموزوم و ژن ها\n",
    "<p dir=rtl>\n",
    "در این مسئله با توجه به این که طول کروموزوم باید ثابت باشد و همچنین تعداد غذا ها ثابت است می توانیم کروموزوم را فهرست تمام غذا ها بگذاریم که با یک متغییر مشخص شود که آیا آن غذا را می بریم یا خیر و اگر می بریم چه مقدار از آن را می بریم. پس در این مسئله ژن ها همان غذا ها هستند که می تواند فعال یا غیر فعال باشند.\n",
    "</p>"
   ]
  },
  {
   "cell_type": "markdown",
   "metadata": {},
   "source": [
    "### ژن ها\n",
    "<p dir=rtl>\n",
    "کلاس ژن در واقع نماینده یک غذا است که در آن نام، حداکثر مقدار موجود، فعال بودن آن، چگالی ارزش آن و وزن الان آن است.\n",
    "</p>\n",
    "<p dir=rtl>\n",
    "در تابع جهش ژن با احتمالی که تعیین شده می تواند فعال یا غیر فعال شود\n",
    "همچنین وزن آن با یک توزیع نرمال حول مقدار قبلی خود تغییر می کند. توزیع به گونه ای تنظیم شده که انحراف معیار به اندازه یک ثابت بین ۰ تا ۱ در مقدار وزن باشد که تغییر معقول باشد. همچنین شرطی گذاشته شده که آیا درموقع غیر فعال بودن ژن وزن آن جهش کند یا خیر\n",
    "</p>\n"
   ]
  },
  {
   "cell_type": "code",
   "execution_count": 288,
   "metadata": {},
   "outputs": [],
   "source": [
    "class Gen:\n",
    "    def __init__(self, name:str, max_weight:float, value_per_weight:float\n",
    "                 , weight:float=0, is_active:bool=False):\n",
    "        self.name = name\n",
    "        self.max_weight = max_weight\n",
    "        self.vpw = value_per_weight\n",
    "        self.is_active = is_active\n",
    "        self.weight = weight\n",
    "\n",
    "    def set_random_gen(self):\n",
    "        self.set_random_gen_status()\n",
    "        self.set_random_wight()\n",
    "    def set_random_gen_status(self):\n",
    "        self.is_active = random.choice([True, False])\n",
    "    def set_random_wight(self):\n",
    "        self.weight = round(random.uniform(MIN_WEIGHT, self.max_weight),1)\n",
    "\n",
    "    def mutation(self):\n",
    "        if IS_WIGHT_MUTATION_IF_DEACTIVATE or self.is_active:\n",
    "            self.weight_mutation()\n",
    "        self.active_mutation()\n",
    "    def active_mutation(self):\n",
    "        self.is_active = self.is_active if random.random() < GEN_ACTIVE_RATE\\\n",
    "                    else not self.is_active\n",
    "    def weight_mutation(self):\n",
    "        std = self.weight * WIGHT_MUTATION_RATE\n",
    "        self.weight = np.random.normal(self.weight, std, 1)[0]\n",
    "        # fix number in range and round\n",
    "        self.weight = round((max(MIN_WEIGHT, min(self.max_weight, self.weight))),1)\n",
    "        \n",
    "    # Getters\n",
    "    def get_weight(self):\n",
    "        return self.max_weight if self.is_active else 0\n",
    "    def get_value(self):\n",
    "        return self.max_weight * self.vpw if self.is_active else 0\n",
    "    def get_name(self):\n",
    "        return self.name\n",
    "    def get_is_active(self):\n",
    "        return self.is_active\n",
    "    def __str__(self):\n",
    "        return \"------------\\n\" + f\"name: {self.name}\\nstatus: {self.is_active}\\n\" +\\\n",
    "        f\"weight: {self.weight}\\nmax weight: {self.max_weight}\\nvpw: {self.vpw:.2f}\"\n",
    "    def __repr__(self):\n",
    "        return self.__str__()"
   ]
  },
  {
   "cell_type": "markdown",
   "metadata": {},
   "source": [
    "### کروموزوم ها\n",
    "<p dir=rtl>\n",
    "کلاس کروموزوم صرفا اجماع ژن ها است و توابع آن صرفا روی ژن ها حلقه می زند.\n",
    "</p>\n",
    "<p dir=rtl>\n",
    "فقط تابع تلفیق ژن ها اضافه شده. برای این کار اپراتور جمع بازنویسی شده و با یک احتمالی کروموزوم ها را تلفیق می کند ویا همان ها را بر می گرداند. برای تقاطع دادن آن ها از تقاطع با احتمال یکسان استفاده شده چون توالی غذا ها مفهوم خاصی ندارد و دلیلی ندارد به خاطر متوالی بودن دو غذا احتمال تقاطع آنها وابسته به هم باشد. در آخر با یک swap کردن دو کروموزوم جدید را ساختیم.\n",
    "</p>"
   ]
  },
  {
   "cell_type": "code",
   "execution_count": 289,
   "metadata": {},
   "outputs": [],
   "source": [
    "class Chromosome:\n",
    "    def __init__(self, gens:list[Gen]):\n",
    "        self.gens = gens\n",
    "\n",
    "    def mutation(self):\n",
    "        for i in self.gens:\n",
    "            i.mutation()\n",
    "    \n",
    "    # Uniform crossover\n",
    "    def __add__(self, pair):\n",
    "        if random.choices([True, False],\n",
    "                          [CROSSOVER_CHANCE,1 - CROSSOVER_CHANCE])[0]:\n",
    "            return self.crossover(pair)\n",
    "        return self, pair\n",
    "    \n",
    "    def crossover(self, pair):\n",
    "        swap_gen_status = self.get_swap_gen_status()\n",
    "        new_chromosomes = [[0] * len(self.gens)] * 2\n",
    "        for i in range(len(self.gens)):\n",
    "            if swap_gen_status[i]:\n",
    "                new_chromosomes[0][i], new_chromosomes[1][i] =\\\n",
    "                pair.gens[i]         , self.gens[i]\n",
    "            else:\n",
    "                new_chromosomes[0][i], new_chromosomes[1][i] =\\\n",
    "                self.gens[i]         , pair.gens[i]\n",
    "        return Chromosome(copy.deepcopy(new_chromosomes[0])),\\\n",
    "               Chromosome(copy.deepcopy(new_chromosomes[1]))\n",
    "    \n",
    "    def get_swap_gen_status(self):\n",
    "        return random.choices([True, False],\n",
    "            [SWAP_CHANCE_IN_CROSSOVER, 1 - SWAP_CHANCE_IN_CROSSOVER],\n",
    "            k=len(self.gens))\n",
    "        \n",
    "    # Getters\n",
    "    def get_weight(self):\n",
    "        return sum([i.get_weight() for i in self.gens])\n",
    "    def get_value(self):\n",
    "        return sum([i.get_value() for i in self.gens])\n",
    "    def get_vpw(self):\n",
    "        return self.get_value() / self.get_weight()\n",
    "    def get_name(self):\n",
    "        return [i.get_name() for i in self.gens]\n",
    "    def get_active_count(self):\n",
    "        return sum([i.get_is_active() for i in self.gens])\n",
    "    \n",
    "    def __str__(self):\n",
    "        return \"__________\\n\"+\\\n",
    "                f\"active_count: {self.get_active_count()}\\n\"+\\\n",
    "                f\"weight: {self.get_weight()}\\n\"+\\\n",
    "                f\"value: {self.get_value()}\\n\"+\\\n",
    "                f\"vpw: {self.get_vpw():.2f}\"\n",
    "    def __repr__(self):\n",
    "        return self.__str__()\n",
    "    \n",
    "    def __lt__(self, x):\n",
    "        return calculate_fitness(self, conditions) > calculate_fitness(x,conditions)\n",
    "    def __gt__(self, x):\n",
    "        return calculate_fitness(self, conditions) < calculate_fitness(x,conditions)"
   ]
  },
  {
   "cell_type": "markdown",
   "metadata": {},
   "source": [
    "## تولید جمعیت اولیه\n",
    "<p dir=rtl>\n",
    "در این قسمت باید جامعه اولیه را تولید کنیم که شامل مراجل زیر است:\n",
    "</p>\n",
    "<ol dir=rtl>\n",
    "    <li> خواندن داده ها </li>\n",
    "    <li> تولید ژن خام از غذا ها </li>\n",
    "    <li> تولید کرموزوم ها با ژن های خام و مقدار دهی شانسی وزن آنها و وضعیت شانسی فعال بودن ژن ها </li>\n",
    "</ol>"
   ]
  },
  {
   "cell_type": "markdown",
   "metadata": {},
   "source": [
    "### read data\n",
    "<p dir=rtl style=\"text-align:right\">\n",
    "در این قسمت فایل\n",
    "snacks.csv\n",
    "را لود می کنیم که داده های غذا های مربوط به پروژه در آن قرار دارد\n",
    "</p>"
   ]
  },
  {
   "cell_type": "code",
   "execution_count": 290,
   "metadata": {},
   "outputs": [
    {
     "data": {
      "text/html": [
       "<div>\n",
       "<style scoped>\n",
       "    .dataframe tbody tr th:only-of-type {\n",
       "        vertical-align: middle;\n",
       "    }\n",
       "\n",
       "    .dataframe tbody tr th {\n",
       "        vertical-align: top;\n",
       "    }\n",
       "\n",
       "    .dataframe thead th {\n",
       "        text-align: right;\n",
       "    }\n",
       "</style>\n",
       "<table border=\"1\" class=\"dataframe\">\n",
       "  <thead>\n",
       "    <tr style=\"text-align: right;\">\n",
       "      <th></th>\n",
       "      <th>Snack</th>\n",
       "      <th>Available Weight</th>\n",
       "      <th>Value</th>\n",
       "    </tr>\n",
       "  </thead>\n",
       "  <tbody>\n",
       "    <tr>\n",
       "      <th>0</th>\n",
       "      <td>MazMaz</td>\n",
       "      <td>10</td>\n",
       "      <td>10</td>\n",
       "    </tr>\n",
       "    <tr>\n",
       "      <th>1</th>\n",
       "      <td>Doogh-e-Abali</td>\n",
       "      <td>15</td>\n",
       "      <td>10</td>\n",
       "    </tr>\n",
       "    <tr>\n",
       "      <th>2</th>\n",
       "      <td>Nani</td>\n",
       "      <td>5</td>\n",
       "      <td>5</td>\n",
       "    </tr>\n",
       "    <tr>\n",
       "      <th>3</th>\n",
       "      <td>Jooj</td>\n",
       "      <td>7</td>\n",
       "      <td>15</td>\n",
       "    </tr>\n",
       "    <tr>\n",
       "      <th>4</th>\n",
       "      <td>Hot-Dog</td>\n",
       "      <td>20</td>\n",
       "      <td>15</td>\n",
       "    </tr>\n",
       "    <tr>\n",
       "      <th>5</th>\n",
       "      <td>Chips</td>\n",
       "      <td>8</td>\n",
       "      <td>6</td>\n",
       "    </tr>\n",
       "    <tr>\n",
       "      <th>6</th>\n",
       "      <td>Nooshaba</td>\n",
       "      <td>12</td>\n",
       "      <td>8</td>\n",
       "    </tr>\n",
       "    <tr>\n",
       "      <th>7</th>\n",
       "      <td>Shokolat</td>\n",
       "      <td>6</td>\n",
       "      <td>7</td>\n",
       "    </tr>\n",
       "    <tr>\n",
       "      <th>8</th>\n",
       "      <td>Chocoroll</td>\n",
       "      <td>9</td>\n",
       "      <td>12</td>\n",
       "    </tr>\n",
       "    <tr>\n",
       "      <th>9</th>\n",
       "      <td>Cookies</td>\n",
       "      <td>11</td>\n",
       "      <td>11</td>\n",
       "    </tr>\n",
       "    <tr>\n",
       "      <th>10</th>\n",
       "      <td>Abnabat</td>\n",
       "      <td>4</td>\n",
       "      <td>4</td>\n",
       "    </tr>\n",
       "    <tr>\n",
       "      <th>11</th>\n",
       "      <td>Adams-Khersi</td>\n",
       "      <td>14</td>\n",
       "      <td>9</td>\n",
       "    </tr>\n",
       "    <tr>\n",
       "      <th>12</th>\n",
       "      <td>Popcorn</td>\n",
       "      <td>16</td>\n",
       "      <td>13</td>\n",
       "    </tr>\n",
       "    <tr>\n",
       "      <th>13</th>\n",
       "      <td>Pastil</td>\n",
       "      <td>3</td>\n",
       "      <td>7</td>\n",
       "    </tr>\n",
       "    <tr>\n",
       "      <th>14</th>\n",
       "      <td>Tordilla</td>\n",
       "      <td>10</td>\n",
       "      <td>9</td>\n",
       "    </tr>\n",
       "    <tr>\n",
       "      <th>15</th>\n",
       "      <td>Masghati</td>\n",
       "      <td>5</td>\n",
       "      <td>6</td>\n",
       "    </tr>\n",
       "    <tr>\n",
       "      <th>16</th>\n",
       "      <td>Ghottab</td>\n",
       "      <td>7</td>\n",
       "      <td>10</td>\n",
       "    </tr>\n",
       "    <tr>\n",
       "      <th>17</th>\n",
       "      <td>Saghe-Talaei</td>\n",
       "      <td>9</td>\n",
       "      <td>11</td>\n",
       "    </tr>\n",
       "    <tr>\n",
       "      <th>18</th>\n",
       "      <td>Choob-Shoor</td>\n",
       "      <td>13</td>\n",
       "      <td>12</td>\n",
       "    </tr>\n",
       "  </tbody>\n",
       "</table>\n",
       "</div>"
      ],
      "text/plain": [
       "            Snack  Available Weight  Value\n",
       "0          MazMaz                10     10\n",
       "1   Doogh-e-Abali                15     10\n",
       "2            Nani                 5      5\n",
       "3            Jooj                 7     15\n",
       "4         Hot-Dog                20     15\n",
       "5           Chips                 8      6\n",
       "6        Nooshaba                12      8\n",
       "7        Shokolat                 6      7\n",
       "8       Chocoroll                 9     12\n",
       "9         Cookies                11     11\n",
       "10        Abnabat                 4      4\n",
       "11   Adams-Khersi                14      9\n",
       "12        Popcorn                16     13\n",
       "13         Pastil                 3      7\n",
       "14       Tordilla                10      9\n",
       "15       Masghati                 5      6\n",
       "16        Ghottab                 7     10\n",
       "17   Saghe-Talaei                 9     11\n",
       "18    Choob-Shoor                13     12"
      ]
     },
     "execution_count": 290,
     "metadata": {},
     "output_type": "execute_result"
    }
   ],
   "source": [
    "snacks = pd.read_csv('./snacks.csv')\n",
    "snacks"
   ]
  },
  {
   "cell_type": "markdown",
   "metadata": {},
   "source": [
    "### ساخت ژن های خام\n",
    "<p dir=rtl>\n",
    "در این قسمت داده های جدول را باید به ژن ها تبدیل کنیم اما مقدار وزن و فعال بودن آن در کروموزوم تعیین می شود\n",
    "</p>"
   ]
  },
  {
   "cell_type": "code",
   "execution_count": 291,
   "metadata": {},
   "outputs": [],
   "source": [
    "row_gens = list[Gen]()\n",
    "for i in snacks.iterrows():\n",
    "    name, max_weight, value = i[1]\n",
    "    row_gens.append(Gen(name, max_weight, value/max_weight))"
   ]
  },
  {
   "cell_type": "code",
   "execution_count": 292,
   "metadata": {},
   "outputs": [
    {
     "name": "stdout",
     "output_type": "stream",
     "text": [
      "------------\n",
      "name: MazMaz\n",
      "status: False\n",
      "weight: 0\n",
      "max weight: 10\n",
      "vpw: 1.00\n",
      "------------\n",
      "name: Doogh-e-Abali\n",
      "status: False\n",
      "weight: 0\n",
      "max weight: 15\n",
      "vpw: 0.67\n"
     ]
    }
   ],
   "source": [
    "for i in row_gens[:2]:\n",
    "    print(i)"
   ]
  },
  {
   "cell_type": "markdown",
   "metadata": {},
   "source": [
    "### ساخت کروموزوم های اولیه\n",
    "<p dir=rtl>\n",
    "در این قسمت ژن ها را برای هر کروموزوم مقدار شانسی می دهیم و کروموزوم های اولیه را می سازیم. برای تعداد جمعیت پارامتر هایی تعریف می کنیم.\n",
    "</p>"
   ]
  },
  {
   "cell_type": "markdown",
   "metadata": {},
   "source": [
    "<p dir=rtl>\n",
    "تابع زیر با استفاده از ژن های خام یک کروموزوم رندوم می سازد\n",
    "</p>"
   ]
  },
  {
   "cell_type": "code",
   "execution_count": 293,
   "metadata": {},
   "outputs": [],
   "source": [
    "def create_random_chromosome() -> Chromosome:\n",
    "    gens = list[Gen]()\n",
    "    for i in row_gens:\n",
    "        new_gen = copy.deepcopy(i)\n",
    "        new_gen.set_random_gen()\n",
    "        gens.append(new_gen)\n",
    "    return Chromosome(gens)"
   ]
  },
  {
   "cell_type": "markdown",
   "metadata": {},
   "source": [
    "<p dir=rtl>\n",
    "تابع زیر با کمک تابع قبل کروموزوم های اولیه را می سازد\n",
    "</p>"
   ]
  },
  {
   "cell_type": "code",
   "execution_count": 294,
   "metadata": {},
   "outputs": [],
   "source": [
    "def create_first_generation() -> list[Chromosome]:\n",
    "    first_chromosomes = list[Chromosome]()\n",
    "    for _ in range(FIRST_GENERATION_COUNT):\n",
    "        first_chromosomes.append(create_random_chromosome())\n",
    "    return first_chromosomes"
   ]
  },
  {
   "cell_type": "markdown",
   "metadata": {},
   "source": [
    "<p dir=rtl>\n",
    "کارکرد آن را بررسی می کنیم\n",
    "</p>"
   ]
  },
  {
   "cell_type": "code",
   "execution_count": 295,
   "metadata": {},
   "outputs": [
    {
     "name": "stdout",
     "output_type": "stream",
     "text": [
      "###############\n",
      "__________\n",
      "active_count: 12\n",
      "weight: 134\n",
      "value: 120.0\n",
      "vpw: 0.90\n",
      "__________\n",
      "------------\n",
      "name: MazMaz\n",
      "status: False\n",
      "weight: 1.0\n",
      "max weight: 10\n",
      "vpw: 1.00\n",
      "------------\n",
      "name: Doogh-e-Abali\n",
      "status: True\n",
      "weight: 10.4\n",
      "max weight: 15\n",
      "vpw: 0.67\n",
      "###############\n",
      "__________\n",
      "active_count: 9\n",
      "weight: 91\n",
      "value: 87.0\n",
      "vpw: 0.96\n",
      "__________\n",
      "------------\n",
      "name: MazMaz\n",
      "status: False\n",
      "weight: 2.4\n",
      "max weight: 10\n",
      "vpw: 1.00\n",
      "------------\n",
      "name: Doogh-e-Abali\n",
      "status: False\n",
      "weight: 5.5\n",
      "max weight: 15\n",
      "vpw: 0.67\n"
     ]
    }
   ],
   "source": [
    "test = create_first_generation()\n",
    "for i in test[:2]:\n",
    "    print(r'###############')\n",
    "    print(i)\n",
    "    print(r'__________')\n",
    "    for j in i.gens[:2]:\n",
    "        print(j)"
   ]
  },
  {
   "cell_type": "markdown",
   "metadata": {},
   "source": [
    "## ساخت تابع فیتنس\n",
    "<p dir=rtl>\n",
    "برای طراحی تابع فیتنس باید موارد زیر را در نظر بگیریم:\n",
    "</p>\n",
    "<ul dir=rtl>\n",
    "    <li> بیشتر بودن ارزش غذایی از ورودی مسئله </li>\n",
    "    <li> کمتر بودن وزن از ورودی مسئله </li>\n",
    "    <li> قرار گرفتن تعداد غذا ها در بازه ورودی مسئله </li>\n",
    "</ul>\n",
    "<p dir=rtl>\n",
    "چون حداکثر وزن هر خوراکی در ژن ها اعمال شده ژن ها از آن عبور نمی کنند بنابراین نیازی به لحاظ کردن آن نیست.\n",
    "</p>\n",
    "<p dir=rtl>\n",
    "موارد زیر را می توان نکات مثبت برای کرموزوم در نظر گرفت:\n",
    "</p>\n",
    "<ul dir=rtl>\n",
    "    <li> بالا بودن vpw </li>\n",
    "    <li> بالا بودن ارزش </li>\n",
    "</ul>"
   ]
  },
  {
   "cell_type": "code",
   "execution_count": 296,
   "metadata": {},
   "outputs": [],
   "source": [
    "def calculate_value_fitness(value:float, condition:float):\n",
    "    diff = value - condition\n",
    "    if diff < 0:\n",
    "        return diff\n",
    "    # TODO\n",
    "    return diff * POSITIVE_VALUE_RATE\n",
    "\n",
    "def calculate_weight_fitness(weight:float, condition:float):\n",
    "    diff = condition - weight\n",
    "    if diff < 0:\n",
    "        return diff\n",
    "    # TODO\n",
    "    return diff * POSITIVE_WEIGHT_RATE\n",
    "\n",
    "def calculate_count_fitness(count:int, condition:list[int]):\n",
    "    if count < condition[0]:\n",
    "        return count - condition[0]\n",
    "    if count > condition[1]:\n",
    "        return condition[1] - count\n",
    "    else:\n",
    "        return POSITIVE_COUNT_RATE"
   ]
  },
  {
   "cell_type": "code",
   "execution_count": 297,
   "metadata": {},
   "outputs": [],
   "source": [
    "def calculate_fitness(chromosome:Chromosome, conditions:dict):\n",
    "    value_point =   calculate_value_fitness(chromosome.get_value(), conditions[\"value\"])\n",
    "    weight_point =  calculate_weight_fitness(chromosome.get_weight(), conditions[\"weight\"])\n",
    "    count_point =   calculate_count_fitness(chromosome.get_active_count(), conditions[\"count\"])\n",
    "    return  value_point  *  FITNESS_VALUE_RATE +\\\n",
    "            weight_point *  FITNESS_WEIGHT_RATE +\\\n",
    "            count_point  *  FITNESS_COUNT_RATE "
   ]
  },
  {
   "cell_type": "markdown",
   "metadata": {},
   "source": [
    "## تولید نسل بعدی\n",
    "<p dir=rtl>\n",
    "تابع جهش و تلفیق در کلاس ها نوشته شده در این بخش با استفاده از آنها و تابع فیتنس نسل بعد را تولید می کنیم.\n",
    "</p>"
   ]
  },
  {
   "cell_type": "code",
   "execution_count": 298,
   "metadata": {},
   "outputs": [],
   "source": [
    "def calculate_generation_fitness(generation:list[Chromosome], conditions):\n",
    "    fitness = list[float]()\n",
    "    for i in generation:\n",
    "        fitness.append(calculate_fitness(i, conditions))\n",
    "    return fitness"
   ]
  },
  {
   "cell_type": "markdown",
   "metadata": {},
   "source": [
    "<p dir=rtl>\n",
    "تابع زیر جهت تبدیل فیتنس به احتمال انتخاب است. به این صورت که کوچکترین عدد را اگر از ۱ کوچک تر است همه اعداد را طوری جمع می زند که آن عدد ۱ شود و سپس احتمال را برابر نسبت فیتنس به جمع کل فیتنس ها قرار می دهد\n",
    "</p>"
   ]
  },
  {
   "cell_type": "code",
   "execution_count": 299,
   "metadata": {},
   "outputs": [],
   "source": [
    "def convert_fitness_to_probability_of_choice(generation_fitness:list[float]):\n",
    "    minimum = min(generation_fitness)\n",
    "    if minimum <= 0:\n",
    "        generation_fitness = [i + abs(minimum) + 1 for i in generation_fitness]\n",
    "    sum_all = sum(generation_fitness)\n",
    "    return [i/sum_all for i in generation_fitness]"
   ]
  },
  {
   "cell_type": "markdown",
   "metadata": {},
   "source": [
    "<p dir=rtl>\n",
    "مراحل تابع تولید نسل به صورت زیر است:\n",
    "</p>\n",
    "<ol dir=rtl>\n",
    "    <li> تبدیل فیتنس ها به احتمال </li>\n",
    "    <li> جفت کردن کروموزوم ها با در نظر گرفتن احتمال </li>\n",
    "    <li> تولید کروموزوم های جدید با تلفیق جفت ها </li>\n",
    "    <li> جهش کروموزوم ها </li>\n",
    "    <li> افزودن کروموزوم ها به نسل جدید </li>\n",
    "</ol>"
   ]
  },
  {
   "cell_type": "code",
   "execution_count": 300,
   "metadata": {},
   "outputs": [],
   "source": [
    "def pair_chromosomes(generation, probability_of_choice) -> tuple[Chromosome, Chromosome]:\n",
    "    return np.random.choice(generation, 2, p=probability_of_choice, replace=False)\n",
    "def create_children(pair:tuple[Chromosome, Chromosome]) -> tuple[Chromosome, Chromosome]:\n",
    "        children = tuple[Chromosome, Chromosome]()\n",
    "        \n",
    "        if HAVE_CROSSOVER:\n",
    "            children = pair[0] + pair[1]\n",
    "        else:\n",
    "            children = copy.deepcopy(pair)\n",
    "        \n",
    "        if HAVE_MUTATION:\n",
    "            for i in children:\n",
    "                i.mutation()\n",
    "        \n",
    "        return children"
   ]
  },
  {
   "cell_type": "code",
   "execution_count": 301,
   "metadata": {},
   "outputs": [],
   "source": [
    "def create_next_generation(generation:list[Chromosome], generation_fitness:list[float],\n",
    "                           size:int, conditions) -> list[Chromosome]:\n",
    "    probability_of_choice = convert_fitness_to_probability_of_choice(generation_fitness)\n",
    "    next_generation = list[Chromosome]()\n",
    "    for _ in range(round(size/2)):\n",
    "        pair = pair_chromosomes(generation, probability_of_choice)\n",
    "        \n",
    "        children = create_children(pair)\n",
    "\n",
    "        next_generation.extend(children)\n",
    "    \n",
    "    return next_generation"
   ]
  },
  {
   "cell_type": "markdown",
   "metadata": {},
   "source": [
    "## ایجاد الگوریتم ژنتیک\n",
    "<p dir=rtl>\n",
    "در آخر باید الگوریتم ژنتیک را پیاده کنیم که مراحل زیر را دارد:\n",
    "</p>\n",
    "<ol dir=rtl>\n",
    "    <li> تولید نسل اول </li>\n",
    "    <li>  تولید نسل های بعدی و محاسبه فیتنس آنها </li>\n",
    "    <li> نمایش بهترین های نسل آخر به عنوان جواب </li>\n",
    "</ol>"
   ]
  },
  {
   "cell_type": "code",
   "execution_count": 302,
   "metadata": {},
   "outputs": [],
   "source": [
    "def check_chromosome(chromosome:Chromosome, conditions):\n",
    "    return calculate_value_fitness(chromosome.get_value(), conditions[\"value\"]) >= 0 and\\\n",
    "           calculate_weight_fitness(chromosome.get_weight(), conditions[\"weight\"]) >= 0 and\\\n",
    "           calculate_count_fitness(chromosome.get_active_count(), conditions[\"count\"]) >= 0\n",
    "def get_generation_size(step:int):\n",
    "    return (step + 1) * INCREASE_GENERATION_RATE * FIRST_GENERATION_COUNT\n",
    "def find_best_chromosome(generation:list[Chromosome], generation_fitness:list[float]):\n",
    "    return generation[np.argmax(generation_fitness)]"
   ]
  },
  {
   "cell_type": "code",
   "execution_count": 303,
   "metadata": {},
   "outputs": [],
   "source": [
    "def solve_with_genetic(conditions):\n",
    "    best_list = list()\n",
    "    generation = create_first_generation()\n",
    "    generation_fitness = calculate_generation_fitness(generation, conditions)\n",
    "    for i in range(GENERATION_STEP):\n",
    "        generation = create_next_generation(generation, generation_fitness\n",
    "                                            , get_generation_size(i), conditions)\n",
    "        generation_fitness = calculate_generation_fitness(generation, conditions)\n",
    "        best_chromosome = find_best_chromosome(generation, generation_fitness)\n",
    "        best_list.append(best_chromosome)\n",
    "        if i%10 == 0:\n",
    "            print(calculate_fitness(best_chromosome, conditions), np.average([calculate_fitness(i, conditions) for i in generation]))\n",
    "        if check_chromosome(best_chromosome, conditions):\n",
    "            print(calculate_fitness(best_chromosome, conditions), np.average([calculate_fitness(i, conditions) for i in generation]))\n",
    "            return best_list\n",
    "    return best_list"
   ]
  },
  {
   "cell_type": "markdown",
   "metadata": {},
   "source": [
    "## بررسی نتایج"
   ]
  },
  {
   "cell_type": "markdown",
   "metadata": {},
   "source": [
    "<p dir=rtl>\n",
    "ابتدا با یک تنظیم اولیه آزمایش می کنیم و می بینیم که میانگین تغییری نمی کند ولی به جواب می رسیم\n",
    "</p>"
   ]
  },
  {
   "cell_type": "code",
   "execution_count": 305,
   "metadata": {},
   "outputs": [
    {
     "name": "stdout",
     "output_type": "stream",
     "text": [
      "-31.3 -75.825\n",
      "-23.3 -81.28499999999998\n"
     ]
    },
    {
     "name": "stdout",
     "output_type": "stream",
     "text": [
      "-19.2 -80.5995238095238\n",
      "-20.3 -80.87903225806451\n",
      "-16.2 -80.55768292682927\n",
      "-17.7 -79.86872549019607\n",
      "-13.5 -81.56122950819672\n",
      "-18.0 -80.41267605633803\n",
      "-8.7 -80.30475308641975\n",
      "-8.2 -81.03357142857143\n",
      "-10.8 -80.71633663366336\n",
      "-14.8 -80.12423423423422\n",
      "-8.9 -80.58388429752065\n",
      "-5.3 -80.76492366412214\n",
      "0.0 -81.1152962962963\n",
      "__________\n",
      "active_count: 2\n",
      "weight: 8\n",
      "value: 12.0\n",
      "vpw: 1.50\n",
      "step: 135\n",
      "size: 20\n"
     ]
    }
   ],
   "source": [
    "conditions = {\"weight\": 10,\n",
    "              \"value\":12,\n",
    "              \"count\": [2,4]}\n",
    "\n",
    "GEN_ACTIVE_RATE = 0.05\n",
    "WIGHT_MUTATION_RATE = 0.05\n",
    "MIN_WEIGHT = 0.5\n",
    "IS_WIGHT_MUTATION_IF_DEACTIVATE = True\n",
    "FIRST_GENERATION_COUNT = 20\n",
    "CROSSOVER_CHANCE = 1/2\n",
    "SWAP_CHANCE_IN_CROSSOVER = 1/5\n",
    "POSITIVE_VALUE_RATE = 0.1\n",
    "POSITIVE_WEIGHT_RATE = 0\n",
    "POSITIVE_COUNT_RATE = 0\n",
    "FITNESS_VALUE_RATE = 1\n",
    "FITNESS_WEIGHT_RATE = 1\n",
    "FITNESS_COUNT_RATE = 1\n",
    "HAVE_CROSSOVER = True\n",
    "HAVE_MUTATION = True\n",
    "GENERATION_STEP = 200\n",
    "INCREASE_GENERATION_RATE = 1\n",
    "\n",
    "ans = solve_with_genetic(conditions)\n",
    "generation_fitness = calculate_generation_fitness(ans, conditions)\n",
    "best_chromosome = find_best_chromosome(ans, generation_fitness)\n",
    "print(best_chromosome)\n",
    "print(f\"step: {len(ans)}\")\n",
    "print(f\"size: {FIRST_GENERATION_COUNT}\")"
   ]
  },
  {
   "cell_type": "markdown",
   "metadata": {},
   "source": [
    "<p dir=rtl>\n",
    "به نظر اگر تعدادی از بهترین های قبلی را به نسل جدید تزریق کنیم نتیجه بهتر شود اما این مورد هم خیلی موثر نیست\n",
    "</p>"
   ]
  },
  {
   "cell_type": "code",
   "execution_count": 271,
   "metadata": {},
   "outputs": [],
   "source": [
    "def solve_with_genetic(conditions):\n",
    "    best_list = list[Chromosome]()\n",
    "    generation = create_first_generation()\n",
    "    generation_fitness = calculate_generation_fitness(generation, conditions)\n",
    "    for i in range(GENERATION_STEP):\n",
    "        generation = create_next_generation(generation, generation_fitness\n",
    "                                            , get_generation_size(i), conditions)\n",
    "        \n",
    "        generation.extend(best_list[:min(len(best_list), OLD_CHORMO_COUNT)])\n",
    "        generation_fitness = calculate_generation_fitness(generation, conditions)\n",
    "        best_chromosome = find_best_chromosome(generation, generation_fitness)\n",
    "        best_list.append(best_chromosome)\n",
    "        if i%10 == 0:\n",
    "            print(calculate_fitness(best_chromosome, conditions), np.average([calculate_fitness(i, conditions) for i in generation]))\n",
    "        if check_chromosome(best_chromosome, conditions):\n",
    "            print(calculate_fitness(best_chromosome, conditions), np.average([calculate_fitness(i, conditions) for i in generation]))\n",
    "            return best_list\n",
    "    return best_list"
   ]
  },
  {
   "cell_type": "code",
   "execution_count": 272,
   "metadata": {},
   "outputs": [
    {
     "name": "stdout",
     "output_type": "stream",
     "text": [
      "-13.2 -67.5875\n",
      "-21.2 -85.01183431952663\n"
     ]
    },
    {
     "name": "stdout",
     "output_type": "stream",
     "text": [
      "-22.2 -81.91339563862928\n",
      "-15.8 -79.68635394456288\n",
      "-4.8 -78.19838969404186\n",
      "-18.1 -80.23459037711312\n",
      "-12.9 -80.00238870792616\n",
      "-4.0 -78.94050514499531\n",
      "-11.7 -79.66257166257166\n",
      "-16.7 -79.89050401753104\n",
      "-10.8 -79.77981591058514\n",
      "-8.7 -81.10209706411025\n",
      "-7.9 -79.65738605161998\n",
      "-4.6 -79.54667343829357\n",
      "0.0 -79.10438639724002\n",
      "__________\n",
      "active_count: 2\n",
      "weight: 8\n",
      "value: 12.0\n",
      "vpw: 1.50\n",
      "step: 135\n",
      "size: 15\n"
     ]
    }
   ],
   "source": [
    "conditions = {\"weight\": 10,\n",
    "              \"value\":12,\n",
    "              \"count\": [2,4]}\n",
    "\n",
    "GEN_ACTIVE_RATE = 0.05\n",
    "WIGHT_MUTATION_RATE = 0.05\n",
    "MIN_WEIGHT = 0.5\n",
    "IS_WIGHT_MUTATION_IF_DEACTIVATE = True\n",
    "FIRST_GENERATION_COUNT = 15\n",
    "CROSSOVER_CHANCE = 1/2\n",
    "SWAP_CHANCE_IN_CROSSOVER = 1/5\n",
    "POSITIVE_VALUE_RATE = 0.1\n",
    "POSITIVE_WEIGHT_RATE = 0\n",
    "POSITIVE_COUNT_RATE = 0\n",
    "FITNESS_VALUE_RATE = 1\n",
    "FITNESS_WEIGHT_RATE = 1\n",
    "FITNESS_COUNT_RATE = 1\n",
    "HAVE_CROSSOVER = True\n",
    "HAVE_MUTATION = True\n",
    "GENERATION_STEP = 200\n",
    "INCREASE_GENERATION_RATE = 1\n",
    "OLD_CHORMO_COUNT = 5\n",
    "\n",
    "ans = solve_with_genetic(conditions)\n",
    "generation_fitness = calculate_generation_fitness(ans, conditions)\n",
    "best_chromosome = find_best_chromosome(ans, generation_fitness)\n",
    "print(best_chromosome)\n",
    "print(f\"step: {len(ans)}\")\n",
    "print(f\"size: {FIRST_GENERATION_COUNT}\")"
   ]
  },
  {
   "cell_type": "markdown",
   "metadata": {},
   "source": [
    "<p dir=rtl>\n",
    "شاید با سنگین تر کردن تابع فیتنس جواب ها بهتر شوند\n",
    "</p>"
   ]
  },
  {
   "cell_type": "code",
   "execution_count": 284,
   "metadata": {},
   "outputs": [],
   "source": [
    "def calculate_fitness(chromosome:Chromosome, conditions:dict):\n",
    "    value_point =   calculate_value_fitness(chromosome.get_value(), conditions[\"value\"])\n",
    "    weight_point =  calculate_weight_fitness(chromosome.get_weight(), conditions[\"weight\"])\n",
    "    count_point =   calculate_count_fitness(chromosome.get_active_count(), conditions[\"count\"])\n",
    "    output = 0\n",
    "    for i in [value_point, weight_point, count_point]:\n",
    "        if i < -1:\n",
    "            output -= i**2\n",
    "        else:\n",
    "            output += i\n",
    "    return output"
   ]
  },
  {
   "cell_type": "code",
   "execution_count": 285,
   "metadata": {},
   "outputs": [],
   "source": [
    "def solve_with_genetic(conditions):\n",
    "    best_list = list()\n",
    "    generation = create_first_generation()\n",
    "    generation_fitness = calculate_generation_fitness(generation, conditions)\n",
    "    for i in range(GENERATION_STEP):\n",
    "        generation = create_next_generation(generation, generation_fitness\n",
    "                                            , get_generation_size(i), conditions)\n",
    "        generation_fitness = calculate_generation_fitness(generation, conditions)\n",
    "        best_chromosome = find_best_chromosome(generation, generation_fitness)\n",
    "        best_list.append(best_chromosome)\n",
    "        if i%10 == 0:\n",
    "            print(calculate_fitness(best_chromosome, conditions), np.average([calculate_fitness(i, conditions) for i in generation]))\n",
    "        if check_chromosome(best_chromosome, conditions):\n",
    "            print(calculate_fitness(best_chromosome, conditions), np.average([calculate_fitness(i, conditions) for i in generation]))\n",
    "            return best_list\n",
    "    return best_list"
   ]
  },
  {
   "cell_type": "code",
   "execution_count": 286,
   "metadata": {},
   "outputs": [
    {
     "name": "stdout",
     "output_type": "stream",
     "text": [
      "-1761.7 -8433.61\n",
      "-1939.2 -7894.2072727272725\n",
      "-287.0 -7722.475714285714\n"
     ]
    },
    {
     "name": "stdout",
     "output_type": "stream",
     "text": [
      "-725.7 -7240.724193548387\n",
      "-287.7 -7244.392926829269\n",
      "-623.3 -7073.381764705883\n",
      "-167.0 -7484.453278688525\n",
      "-168.0 -7137.9850704225355\n",
      "-195.3 -7378.312345679013\n",
      "-253.5 -7250.674120879121\n",
      "-287.3 -7212.41896039604\n",
      "-622.0 -7440.978243243243\n",
      "-224.2 -7288.810289256197\n",
      "-79.5 -7257.928091603054\n",
      "-120.0 -7269.672517730496\n",
      "-194.4 -7278.369735099338\n"
     ]
    },
    {
     "ename": "KeyboardInterrupt",
     "evalue": "",
     "output_type": "error",
     "traceback": [
      "\u001b[0;31m---------------------------------------------------------------------------\u001b[0m",
      "\u001b[0;31mKeyboardInterrupt\u001b[0m                         Traceback (most recent call last)",
      "Cell \u001b[0;32mIn[286], line 23\u001b[0m\n\u001b[1;32m     20\u001b[0m GENERATION_STEP \u001b[38;5;241m=\u001b[39m \u001b[38;5;241m200\u001b[39m\n\u001b[1;32m     21\u001b[0m INCREASE_GENERATION_RATE \u001b[38;5;241m=\u001b[39m \u001b[38;5;241m1\u001b[39m\n\u001b[0;32m---> 23\u001b[0m ans \u001b[38;5;241m=\u001b[39m \u001b[43msolve_with_genetic\u001b[49m\u001b[43m(\u001b[49m\u001b[43mconditions\u001b[49m\u001b[43m)\u001b[49m\n\u001b[1;32m     24\u001b[0m generation_fitness \u001b[38;5;241m=\u001b[39m calculate_generation_fitness(ans, conditions)\n\u001b[1;32m     25\u001b[0m best_chromosome \u001b[38;5;241m=\u001b[39m find_best_chromosome(ans, generation_fitness)\n",
      "Cell \u001b[0;32mIn[285], line 6\u001b[0m, in \u001b[0;36msolve_with_genetic\u001b[0;34m(conditions)\u001b[0m\n\u001b[1;32m      4\u001b[0m generation_fitness \u001b[38;5;241m=\u001b[39m calculate_generation_fitness(generation, conditions)\n\u001b[1;32m      5\u001b[0m \u001b[38;5;28;01mfor\u001b[39;00m i \u001b[38;5;129;01min\u001b[39;00m \u001b[38;5;28mrange\u001b[39m(GENERATION_STEP):\n\u001b[0;32m----> 6\u001b[0m     generation \u001b[38;5;241m=\u001b[39m \u001b[43mcreate_next_generation\u001b[49m\u001b[43m(\u001b[49m\u001b[43mgeneration\u001b[49m\u001b[43m,\u001b[49m\u001b[43m \u001b[49m\u001b[43mgeneration_fitness\u001b[49m\n\u001b[1;32m      7\u001b[0m \u001b[43m                                        \u001b[49m\u001b[43m,\u001b[49m\u001b[43m \u001b[49m\u001b[43mget_generation_size\u001b[49m\u001b[43m(\u001b[49m\u001b[43mi\u001b[49m\u001b[43m)\u001b[49m\u001b[43m,\u001b[49m\u001b[43m \u001b[49m\u001b[43mconditions\u001b[49m\u001b[43m)\u001b[49m\n\u001b[1;32m      8\u001b[0m     generation_fitness \u001b[38;5;241m=\u001b[39m calculate_generation_fitness(generation, conditions)\n\u001b[1;32m      9\u001b[0m     best_chromosome \u001b[38;5;241m=\u001b[39m find_best_chromosome(generation, generation_fitness)\n",
      "Cell \u001b[0;32mIn[143], line 6\u001b[0m, in \u001b[0;36mcreate_next_generation\u001b[0;34m(generation, generation_fitness, size, conditions)\u001b[0m\n\u001b[1;32m      4\u001b[0m next_generation \u001b[38;5;241m=\u001b[39m \u001b[38;5;28mlist\u001b[39m[Chromosome]()\n\u001b[1;32m      5\u001b[0m \u001b[38;5;28;01mfor\u001b[39;00m _ \u001b[38;5;129;01min\u001b[39;00m \u001b[38;5;28mrange\u001b[39m(\u001b[38;5;28mround\u001b[39m(size\u001b[38;5;241m/\u001b[39m\u001b[38;5;241m2\u001b[39m)):\n\u001b[0;32m----> 6\u001b[0m     pair \u001b[38;5;241m=\u001b[39m \u001b[43mpair_chromosomes\u001b[49m\u001b[43m(\u001b[49m\u001b[43mgeneration\u001b[49m\u001b[43m,\u001b[49m\u001b[43m \u001b[49m\u001b[43mprobability_of_choice\u001b[49m\u001b[43m)\u001b[49m\n\u001b[1;32m      8\u001b[0m     children \u001b[38;5;241m=\u001b[39m create_children(pair)\n\u001b[1;32m     10\u001b[0m     next_generation\u001b[38;5;241m.\u001b[39mextend(children)\n",
      "Cell \u001b[0;32mIn[142], line 2\u001b[0m, in \u001b[0;36mpair_chromosomes\u001b[0;34m(generation, probability_of_choice)\u001b[0m\n\u001b[1;32m      1\u001b[0m \u001b[38;5;28;01mdef\u001b[39;00m \u001b[38;5;21mpair_chromosomes\u001b[39m(generation, probability_of_choice) \u001b[38;5;241m-\u001b[39m\u001b[38;5;241m>\u001b[39m \u001b[38;5;28mtuple\u001b[39m[Chromosome, Chromosome]:\n\u001b[0;32m----> 2\u001b[0m     \u001b[38;5;28;01mreturn\u001b[39;00m \u001b[43mnp\u001b[49m\u001b[38;5;241;43m.\u001b[39;49m\u001b[43mrandom\u001b[49m\u001b[38;5;241;43m.\u001b[39;49m\u001b[43mchoice\u001b[49m\u001b[43m(\u001b[49m\u001b[43mgeneration\u001b[49m\u001b[43m,\u001b[49m\u001b[43m \u001b[49m\u001b[38;5;241;43m2\u001b[39;49m\u001b[43m,\u001b[49m\u001b[43m \u001b[49m\u001b[43mp\u001b[49m\u001b[38;5;241;43m=\u001b[39;49m\u001b[43mprobability_of_choice\u001b[49m\u001b[43m,\u001b[49m\u001b[43m \u001b[49m\u001b[43mreplace\u001b[49m\u001b[38;5;241;43m=\u001b[39;49m\u001b[38;5;28;43;01mFalse\u001b[39;49;00m\u001b[43m)\u001b[49m\n",
      "File \u001b[0;32mmtrand.pyx:939\u001b[0m, in \u001b[0;36mnumpy.random.mtrand.RandomState.choice\u001b[0;34m()\u001b[0m\n",
      "File \u001b[0;32m~/.local/lib/python3.10/site-packages/numpy/core/getlimits.py:478\u001b[0m, in \u001b[0;36mfinfo.__new__\u001b[0;34m(cls, dtype)\u001b[0m\n\u001b[1;32m    476\u001b[0m \u001b[38;5;28;01mdef\u001b[39;00m \u001b[38;5;21m__new__\u001b[39m(\u001b[38;5;28mcls\u001b[39m, dtype):\n\u001b[1;32m    477\u001b[0m     \u001b[38;5;28;01mtry\u001b[39;00m:\n\u001b[0;32m--> 478\u001b[0m         dtype \u001b[38;5;241m=\u001b[39m \u001b[43mnumeric\u001b[49m\u001b[38;5;241;43m.\u001b[39;49m\u001b[43mdtype\u001b[49m\u001b[43m(\u001b[49m\u001b[43mdtype\u001b[49m\u001b[43m)\u001b[49m\n\u001b[1;32m    479\u001b[0m     \u001b[38;5;28;01mexcept\u001b[39;00m \u001b[38;5;167;01mTypeError\u001b[39;00m:\n\u001b[1;32m    480\u001b[0m         \u001b[38;5;66;03m# In case a float instance was given\u001b[39;00m\n\u001b[1;32m    481\u001b[0m         dtype \u001b[38;5;241m=\u001b[39m numeric\u001b[38;5;241m.\u001b[39mdtype(\u001b[38;5;28mtype\u001b[39m(dtype))\n",
      "\u001b[0;31mKeyboardInterrupt\u001b[0m: "
     ]
    }
   ],
   "source": [
    "conditions = {\"weight\": 10,\n",
    "              \"value\":12,\n",
    "              \"count\": [2,4]}\n",
    "\n",
    "GEN_ACTIVE_RATE = 0.05\n",
    "WIGHT_MUTATION_RATE = 0.05\n",
    "MIN_WEIGHT = 0.5\n",
    "IS_WIGHT_MUTATION_IF_DEACTIVATE = True\n",
    "FIRST_GENERATION_COUNT = 20\n",
    "CROSSOVER_CHANCE = 1/2\n",
    "SWAP_CHANCE_IN_CROSSOVER = 1/5\n",
    "POSITIVE_VALUE_RATE = 0.1\n",
    "POSITIVE_WEIGHT_RATE = 0\n",
    "POSITIVE_COUNT_RATE = 0\n",
    "FITNESS_VALUE_RATE = 1\n",
    "FITNESS_WEIGHT_RATE = 1\n",
    "FITNESS_COUNT_RATE = 1\n",
    "HAVE_CROSSOVER = True\n",
    "HAVE_MUTATION = True\n",
    "GENERATION_STEP = 200\n",
    "INCREASE_GENERATION_RATE = 1\n",
    "\n",
    "ans = solve_with_genetic(conditions)\n",
    "generation_fitness = calculate_generation_fitness(ans, conditions)\n",
    "best_chromosome = find_best_chromosome(ans, generation_fitness)\n",
    "print(best_chromosome)\n",
    "print(f\"step: {len(ans)}\")\n",
    "print(f\"size: {FIRST_GENERATION_COUNT}\")"
   ]
  }
 ],
 "metadata": {
  "kernelspec": {
   "display_name": "Python 3 (ipykernel)",
   "language": "python",
   "name": "python3"
  },
  "language_info": {
   "codemirror_mode": {
    "name": "ipython",
    "version": 3
   },
   "file_extension": ".py",
   "mimetype": "text/x-python",
   "name": "python",
   "nbconvert_exporter": "python",
   "pygments_lexer": "ipython3",
   "version": "3.10.12"
  }
 },
 "nbformat": 4,
 "nbformat_minor": 2
}
