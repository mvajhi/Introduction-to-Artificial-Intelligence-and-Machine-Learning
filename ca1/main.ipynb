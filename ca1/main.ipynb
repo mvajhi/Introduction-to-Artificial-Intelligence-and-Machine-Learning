{
 "cells": [
  {
   "cell_type": "markdown",
   "metadata": {},
   "source": [
    "# ca1 : الگوریتم ژنتیک\n",
    "#### mahdi vajhi\n",
    "#### 810101558\n",
    "<p dir=rtl style=\"text-align:right\">\n",
    "هدف از این پروژه حل مسئله \n",
    "Problem Knapsack\n",
    "با استفاده از الگوریتم ژنتیک است. ما در این مسئله باید حالت بهینه از غذا ها را که شرایط ورودی را داشته باشد پیدا کنیم.\n",
    "برای این کار ما ابتدا باید ساختار کروموزوم های خود را تعریف کنیم که دارای قابلیت تلفیق با بقیه و جهش را داشته باشد. سپس باید تعدادی کروموزوم اولیه تولید کنیم و با پیاده سازی یک تابع فیتنس برای آنها میزان خوب بودن آنها را بسنجیم این تابع باید به شرایط مسئله حساس باشد و همچنین میزان خوب بودن ژن ها را نشان دهد. سپس باید تابعی برای تولید نسل بعدی نوشت که ابتدا کروموزوم ها را جفت کند سپس آنها را تلفیق کند و در نهایت آنها را جهش دهد. در آخر هم باید نتایج را بررسی کرد و جواب به دست آمده را بررسی کنیم.\n",
    "</p>"
   ]
  },
  {
   "cell_type": "markdown",
   "metadata": {},
   "source": [
    "## initial block"
   ]
  },
  {
   "cell_type": "markdown",
   "metadata": {},
   "source": [
    "<p dir=rtl>\n",
    "ثابت های زیر مقدار اولیه هستند و در آخر مقادیر متفاوت نیز آزمایش شده\n",
    "</p>"
   ]
  },
  {
   "cell_type": "code",
   "execution_count": 135,
   "metadata": {},
   "outputs": [],
   "source": [
    "import random\n",
    "import pandas as pd\n",
    "import numpy as np\n",
    "import copy\n",
    "import math\n",
    "import matplotlib.pyplot as plt\n",
    "import time\n",
    "import json\n",
    "\n",
    "\n",
    "CHROMOSOME_COUNT_RATE = 0.5\n",
    "WIGHT_MUTATION_RATE = 0.05\n",
    "MIN_WEIGHT = 0.5\n",
    "IS_WIGHT_MUTATION_IF_DEACTIVATE = True\n",
    "FIRST_GENERATION_COUNT = 10\n",
    "CROSSOVER_CHANCE = 1/3\n",
    "SWAP_CHANCE_IN_CROSSOVER = 1/5\n",
    "POSITIVE_VALUE_RATE = 0.1\n",
    "POSITIVE_WEIGHT_RATE = 0\n",
    "POSITIVE_COUNT_RATE = 0\n",
    "FITNESS_VALUE_RATE = 1\n",
    "FITNESS_WEIGHT_RATE = 1\n",
    "FITNESS_COUNT_RATE = 1\n",
    "HAVE_CROSSOVER = True\n",
    "HAVE_MUTATION = True\n",
    "GENERATION_STEP = 1000\n",
    "INCREASE_GENERATION_RATE = 1\n",
    "OLD_CHORMO_COUNT = 5\n",
    "CHROMOSOME_MUTATION_RATE = 0.05\n",
    "WIGHT_MUTATION_CHANCE = 0.1\n",
    "PRINT_RATE = 5\n",
    "PRINT_ACTIVE = True"
   ]
  },
  {
   "cell_type": "markdown",
   "metadata": {},
   "source": [
    "## تعریف کروموزوم و ژن ها\n",
    "<p dir=rtl>\n",
    "در این مسئله با توجه به این که طول کروموزوم باید ثابت باشد و همچنین تعداد غذا ها ثابت است می توانیم کروموزوم را فهرست تمام غذا ها بگذاریم که با یک متغییر مشخص شود که آیا آن غذا را می بریم یا خیر و اگر می بریم چه مقدار از آن را می بریم. پس در این مسئله ژن ها همان غذا ها هستند که می تواند فعال یا غیر فعال باشند.\n",
    "</p>"
   ]
  },
  {
   "cell_type": "markdown",
   "metadata": {},
   "source": [
    "### ژن ها\n",
    "<p dir=rtl>\n",
    "کلاس ژن در واقع نماینده یک غذا است که در آن نام، حداکثر مقدار موجود، فعال بودن آن، چگالی ارزش آن و وزن الان آن است.\n",
    "</p>\n",
    "<p dir=rtl>\n",
    "در تابع جهش ژن با احتمالی که تعیین شده می تواند فعال یا غیر فعال شود\n",
    "همچنین وزن آن با یک توزیع نرمال حول مقدار قبلی خود تغییر می کند. توزیع به گونه ای تنظیم شده که انحراف معیار به اندازه یک ثابت بین ۰ تا ۱ در مقدار وزن باشد که تغییر معقول باشد. همچنین شرطی گذاشته شده که آیا درموقع غیر فعال بودن ژن وزن آن جهش کند یا خیر\n",
    "</p>\n"
   ]
  },
  {
   "cell_type": "code",
   "execution_count": 2,
   "metadata": {},
   "outputs": [],
   "source": [
    "class Gen:\n",
    "    def __init__(self, name:str, max_weight:float, value_per_weight:float\n",
    "                 , weight:float=1, is_active:bool=False):\n",
    "        self.name = name\n",
    "        self.max_weight = max_weight\n",
    "        self.vpw = value_per_weight\n",
    "        self.is_active = is_active\n",
    "        self.weight = weight\n",
    "\n",
    "    def set_random_gen(self):\n",
    "        self.weight = random.uniform(MIN_WEIGHT, self.max_weight)\n",
    "\n",
    "    def set_gen_weight(self, new_weight):\n",
    "        self.weight = new_weight\n",
    "    def set_gen_status(self, status:bool):\n",
    "        self.is_active = status\n",
    "\n",
    "    def mutation(self):\n",
    "        if IS_WIGHT_MUTATION_IF_DEACTIVATE or self.is_active:\n",
    "            if WIGHT_MUTATION_CHANCE > random.random():\n",
    "                self.weight = max(MIN_WEIGHT,\n",
    "                                  min(self.max_weight, self.weight \n",
    "                                      + (self.max_weight * WIGHT_MUTATION_RATE \n",
    "                                         * random.choice([1,-1]))))\n",
    "        \n",
    "        \n",
    "    # Getters\n",
    "    def get_weight(self):\n",
    "        return self.weight if self.is_active else 0\n",
    "    def get_value(self):\n",
    "        return self.weight * self.vpw if self.is_active else 0\n",
    "    def get_name(self):\n",
    "        return self.name\n",
    "    def get_is_active(self):\n",
    "        return self.is_active\n",
    "    def __str__(self):\n",
    "        return \"------------\\n\" +\\\n",
    "                f\"name: {self.name}\\n\"+\\\n",
    "                f\"status: {self.is_active}\\n\" +\\\n",
    "                f\"weight: {self.weight:.2f}\\n\"+\\\n",
    "                f\"max weight: {self.max_weight:.2f}\\n\"+\\\n",
    "                f\"vpw: {self.vpw:.2f}\\n\"+\\\n",
    "                f\"value: {self.vpw * self.weight:.2f}\"\n",
    "    def __repr__(self):\n",
    "        return self.__str__()"
   ]
  },
  {
   "cell_type": "markdown",
   "metadata": {},
   "source": [
    "### کروموزوم ها\n",
    "<p dir=rtl>\n",
    "کلاس کروموزوم صرفا اجماع ژن ها است و توابع آن صرفا روی ژن ها حلقه می زند.\n",
    "</p>\n",
    "<p dir=rtl>\n",
    "فقط تابع تلفیق ژن ها اضافه شده. برای این کار اپراتور جمع بازنویسی شده و با یک احتمالی کروموزوم ها را تلفیق می کند ویا همان ها را بر می گرداند. برای تقاطع دادن آن ها از تقاطع با احتمال یکسان استفاده شده چون توالی غذا ها مفهوم خاصی ندارد و دلیلی ندارد به خاطر متوالی بودن دو غذا احتمال تقاطع آنها وابسته به هم باشد. در آخر با یک swap کردن دو کروموزوم جدید را ساختیم.\n",
    "</p>"
   ]
  },
  {
   "cell_type": "code",
   "execution_count": 3,
   "metadata": {},
   "outputs": [],
   "source": [
    "class Chromosome:\n",
    "    def __init__(self, gens:list[Gen], count_range:list[int]):\n",
    "        self.gens = gens\n",
    "        self.count_range = count_range\n",
    "\n",
    "    def mutation(self):\n",
    "        self.weight_mutation()\n",
    "        self.count_mutation()\n",
    "    def count_mutation(self):\n",
    "        if random.random() > CHROMOSOME_MUTATION_RATE:\n",
    "            return\n",
    "        self.add_or_remove_food_mutation()\n",
    "        self.change_active_food_mutation()\n",
    "            \n",
    "    def change_active_food_mutation(self):\n",
    "        disable_gen = [i for i in range(len(self.gens)) if self.gens[i].is_active == False]\n",
    "        active_gen = [i for i in range(len(self.gens)) if self.gens[i].is_active == True]\n",
    "        change_count = np.random.randint(min(len(active_gen), len(disable_gen)) + 1)\n",
    "        selected_disable_gen = np.random.choice(disable_gen, change_count, replace=False)\n",
    "        selected_active_gen = np.random.choice(active_gen, change_count, replace=False)\n",
    "        for i, j in zip(selected_disable_gen, selected_active_gen):\n",
    "            self.gens[i].set_gen_status(True)\n",
    "            self.gens[j].set_gen_status(False)\n",
    "        \n",
    "    def add_or_remove_food_mutation(self):\n",
    "        new_count = np.random.randint(self.count_range[0], self.count_range[1] + 1)\n",
    "        diff = new_count - len([i for i in range(len(self.gens)) if self.gens[i].is_active == True])\n",
    "        if diff == 0:\n",
    "            return\n",
    "        elif diff > 0:\n",
    "            disable_food = np.random.choice([i for i in range(len(self.gens)) if self.gens[i].is_active == False], int(diff), replace=False)\n",
    "            for i in disable_food:\n",
    "                self.gens[i].set_gen_status(True)\n",
    "        else:\n",
    "            active_food = np.random.choice([i for i in range(len(self.gens)) if self.gens[i].is_active == True], int(abs(diff)), replace=False)\n",
    "            for i in active_food:\n",
    "                self.gens[i].set_gen_status(False)\n",
    "\n",
    "    def weight_mutation(self):\n",
    "        for i in self.gens:\n",
    "            i.mutation()\n",
    "    \n",
    "    # Uniform crossover\n",
    "    def __add__(self, pair):\n",
    "        if random.choices([True, False],\n",
    "                          [CROSSOVER_CHANCE,1 - CROSSOVER_CHANCE])[0]:\n",
    "            return self.crossover(pair)\n",
    "        return self, pair\n",
    "    \n",
    "    def crossover(self, pair):\n",
    "        all_active_gen, count = self.get_active_gen_and_number(pair)\n",
    "        child_1 = self.create_gens_for_new_chromosome(all_active_gen, count, pair)\n",
    "        child_2 = self.create_gens_for_new_chromosome(all_active_gen, count, pair)\n",
    "        \n",
    "        return Chromosome(child_1, self.count_range), Chromosome(child_2, self.count_range)\n",
    "            \n",
    " \n",
    "        \n",
    "    def get_active_gen_and_number(self, pair) -> tuple[dict[int, list[int]], list[int]]:\n",
    "        counter = [0, 0]\n",
    "        active_gen = dict[int, list[int]]()\n",
    "        chromosomes = [self, pair]\n",
    "        for i in range(len(chromosomes)):\n",
    "            for j in range(len(self.gens)):\n",
    "                if chromosomes[i].gens[j].is_active == True:\n",
    "                    counter[i] += 1\n",
    "                    if j in active_gen:\n",
    "                        active_gen[j] += [i]\n",
    "                    else:\n",
    "                        active_gen[j] = [i]\n",
    "\n",
    "        return active_gen, counter\n",
    "                \n",
    "    \n",
    "    def create_gens_from_pair(self, pair) -> list[Gen]:\n",
    "        new_gen = Gen\n",
    "        new_gens = list[Gen]()\n",
    "        for i in range(len(self.gens)):\n",
    "            if np.random.randint(2):\n",
    "                new_gen = copy.deepcopy(self.gens[i])\n",
    "            else:\n",
    "                new_gen = copy.deepcopy(pair.gens[i])\n",
    "            new_gen.set_gen_status(False)\n",
    "            new_gens.append(new_gen)\n",
    "        return new_gens\n",
    "    \n",
    "    def get_swap_gen_status(self):\n",
    "        return random.choices([True, False],\n",
    "            [SWAP_CHANCE_IN_CROSSOVER, 1 - SWAP_CHANCE_IN_CROSSOVER],\n",
    "            k=len(self.gens))\n",
    "        \n",
    "    # Getters\n",
    "    def get_weight(self):\n",
    "        return sum([i.get_weight() for i in self.gens])\n",
    "    def get_value(self):\n",
    "        return sum([i.get_value() for i in self.gens])\n",
    "    def get_vpw(self):\n",
    "        if self.get_weight() == 0:\n",
    "            return 0\n",
    "        return self.get_value() / self.get_weight()\n",
    "    def get_name(self):\n",
    "        return [i.get_name() for i in self.gens]\n",
    "    def get_active_count(self):\n",
    "        return sum([i.get_is_active() for i in self.gens])\n",
    "    \n",
    "    def __str__(self):\n",
    "        return \"__________\\n\"+\\\n",
    "                f\"active_count: {self.get_active_count()}\\n\"+\\\n",
    "                f\"weight: {self.get_weight():.2f}\\n\"+\\\n",
    "                f\"value: {self.get_value():.2f}\\n\"+\\\n",
    "                f\"vpw: {self.get_vpw():.2f}\"\n",
    "    def __repr__(self):\n",
    "        return self.__str__()\n",
    "    \n",
    "    def __lt__(self, x):\n",
    "        return calculate_fitness(self, conditions) > calculate_fitness(x,conditions)\n",
    "    def __gt__(self, x):\n",
    "        return calculate_fitness(self, conditions) < calculate_fitness(x,conditions)"
   ]
  },
  {
   "cell_type": "markdown",
   "metadata": {},
   "source": [
    "## تولید جمعیت اولیه\n",
    "<p dir=rtl>\n",
    "در این قسمت باید جامعه اولیه را تولید کنیم که شامل مراجل زیر است:\n",
    "</p>\n",
    "<ol dir=rtl>\n",
    "    <li> خواندن داده ها </li>\n",
    "    <li> تولید ژن خام از غذا ها </li>\n",
    "    <li> تولید کرموزوم ها با ژن های خام و مقدار دهی شانسی وزن آنها و وضعیت شانسی فعال بودن ژن ها </li>\n",
    "</ol>"
   ]
  },
  {
   "cell_type": "markdown",
   "metadata": {},
   "source": [
    "### read data\n",
    "<p dir=rtl style=\"text-align:right\">\n",
    "در این قسمت فایل\n",
    "snacks.csv\n",
    "را لود می کنیم که داده های غذا های مربوط به پروژه در آن قرار دارد\n",
    "</p>"
   ]
  },
  {
   "cell_type": "code",
   "execution_count": 4,
   "metadata": {},
   "outputs": [
    {
     "data": {
      "text/html": [
       "<div>\n",
       "<style scoped>\n",
       "    .dataframe tbody tr th:only-of-type {\n",
       "        vertical-align: middle;\n",
       "    }\n",
       "\n",
       "    .dataframe tbody tr th {\n",
       "        vertical-align: top;\n",
       "    }\n",
       "\n",
       "    .dataframe thead th {\n",
       "        text-align: right;\n",
       "    }\n",
       "</style>\n",
       "<table border=\"1\" class=\"dataframe\">\n",
       "  <thead>\n",
       "    <tr style=\"text-align: right;\">\n",
       "      <th></th>\n",
       "      <th>Snack</th>\n",
       "      <th>Available Weight</th>\n",
       "      <th>Value</th>\n",
       "    </tr>\n",
       "  </thead>\n",
       "  <tbody>\n",
       "    <tr>\n",
       "      <th>0</th>\n",
       "      <td>MazMaz</td>\n",
       "      <td>10</td>\n",
       "      <td>10</td>\n",
       "    </tr>\n",
       "    <tr>\n",
       "      <th>1</th>\n",
       "      <td>Doogh-e-Abali</td>\n",
       "      <td>15</td>\n",
       "      <td>10</td>\n",
       "    </tr>\n",
       "    <tr>\n",
       "      <th>2</th>\n",
       "      <td>Nani</td>\n",
       "      <td>5</td>\n",
       "      <td>5</td>\n",
       "    </tr>\n",
       "    <tr>\n",
       "      <th>3</th>\n",
       "      <td>Jooj</td>\n",
       "      <td>7</td>\n",
       "      <td>15</td>\n",
       "    </tr>\n",
       "    <tr>\n",
       "      <th>4</th>\n",
       "      <td>Hot-Dog</td>\n",
       "      <td>20</td>\n",
       "      <td>15</td>\n",
       "    </tr>\n",
       "    <tr>\n",
       "      <th>5</th>\n",
       "      <td>Chips</td>\n",
       "      <td>8</td>\n",
       "      <td>6</td>\n",
       "    </tr>\n",
       "    <tr>\n",
       "      <th>6</th>\n",
       "      <td>Nooshaba</td>\n",
       "      <td>12</td>\n",
       "      <td>8</td>\n",
       "    </tr>\n",
       "    <tr>\n",
       "      <th>7</th>\n",
       "      <td>Shokolat</td>\n",
       "      <td>6</td>\n",
       "      <td>7</td>\n",
       "    </tr>\n",
       "    <tr>\n",
       "      <th>8</th>\n",
       "      <td>Chocoroll</td>\n",
       "      <td>9</td>\n",
       "      <td>12</td>\n",
       "    </tr>\n",
       "    <tr>\n",
       "      <th>9</th>\n",
       "      <td>Cookies</td>\n",
       "      <td>11</td>\n",
       "      <td>11</td>\n",
       "    </tr>\n",
       "    <tr>\n",
       "      <th>10</th>\n",
       "      <td>Abnabat</td>\n",
       "      <td>4</td>\n",
       "      <td>4</td>\n",
       "    </tr>\n",
       "    <tr>\n",
       "      <th>11</th>\n",
       "      <td>Adams-Khersi</td>\n",
       "      <td>14</td>\n",
       "      <td>9</td>\n",
       "    </tr>\n",
       "    <tr>\n",
       "      <th>12</th>\n",
       "      <td>Popcorn</td>\n",
       "      <td>16</td>\n",
       "      <td>13</td>\n",
       "    </tr>\n",
       "    <tr>\n",
       "      <th>13</th>\n",
       "      <td>Pastil</td>\n",
       "      <td>3</td>\n",
       "      <td>7</td>\n",
       "    </tr>\n",
       "    <tr>\n",
       "      <th>14</th>\n",
       "      <td>Tordilla</td>\n",
       "      <td>10</td>\n",
       "      <td>9</td>\n",
       "    </tr>\n",
       "    <tr>\n",
       "      <th>15</th>\n",
       "      <td>Masghati</td>\n",
       "      <td>5</td>\n",
       "      <td>6</td>\n",
       "    </tr>\n",
       "    <tr>\n",
       "      <th>16</th>\n",
       "      <td>Ghottab</td>\n",
       "      <td>7</td>\n",
       "      <td>10</td>\n",
       "    </tr>\n",
       "    <tr>\n",
       "      <th>17</th>\n",
       "      <td>Saghe-Talaei</td>\n",
       "      <td>9</td>\n",
       "      <td>11</td>\n",
       "    </tr>\n",
       "    <tr>\n",
       "      <th>18</th>\n",
       "      <td>Choob-Shoor</td>\n",
       "      <td>13</td>\n",
       "      <td>12</td>\n",
       "    </tr>\n",
       "  </tbody>\n",
       "</table>\n",
       "</div>"
      ],
      "text/plain": [
       "            Snack  Available Weight  Value\n",
       "0          MazMaz                10     10\n",
       "1   Doogh-e-Abali                15     10\n",
       "2            Nani                 5      5\n",
       "3            Jooj                 7     15\n",
       "4         Hot-Dog                20     15\n",
       "5           Chips                 8      6\n",
       "6        Nooshaba                12      8\n",
       "7        Shokolat                 6      7\n",
       "8       Chocoroll                 9     12\n",
       "9         Cookies                11     11\n",
       "10        Abnabat                 4      4\n",
       "11   Adams-Khersi                14      9\n",
       "12        Popcorn                16     13\n",
       "13         Pastil                 3      7\n",
       "14       Tordilla                10      9\n",
       "15       Masghati                 5      6\n",
       "16        Ghottab                 7     10\n",
       "17   Saghe-Talaei                 9     11\n",
       "18    Choob-Shoor                13     12"
      ]
     },
     "execution_count": 4,
     "metadata": {},
     "output_type": "execute_result"
    }
   ],
   "source": [
    "snacks = pd.read_csv('./snacks.csv')\n",
    "snacks"
   ]
  },
  {
   "cell_type": "markdown",
   "metadata": {},
   "source": [
    "### ساخت ژن های خام\n",
    "<p dir=rtl>\n",
    "در این قسمت داده های جدول را باید به ژن ها تبدیل کنیم اما مقدار وزن و فعال بودن آن در کروموزوم تعیین می شود\n",
    "</p>"
   ]
  },
  {
   "cell_type": "code",
   "execution_count": 5,
   "metadata": {},
   "outputs": [],
   "source": [
    "row_gens = list[Gen]()\n",
    "for i in snacks.iterrows():\n",
    "    name, max_weight, value = i[1]\n",
    "    row_gens.append(Gen(name, max_weight, value/max_weight))"
   ]
  },
  {
   "cell_type": "code",
   "execution_count": 6,
   "metadata": {},
   "outputs": [
    {
     "name": "stdout",
     "output_type": "stream",
     "text": [
      "------------\n",
      "name: MazMaz\n",
      "status: False\n",
      "weight: 1.00\n",
      "max weight: 10.00\n",
      "vpw: 1.00\n",
      "value: 1.00\n",
      "------------\n",
      "name: Doogh-e-Abali\n",
      "status: False\n",
      "weight: 1.00\n",
      "max weight: 15.00\n",
      "vpw: 0.67\n",
      "value: 0.67\n"
     ]
    }
   ],
   "source": [
    "for i in row_gens[:2]:\n",
    "    print(i)"
   ]
  },
  {
   "cell_type": "markdown",
   "metadata": {},
   "source": [
    "### ساخت کروموزوم های اولیه\n",
    "<p dir=rtl>\n",
    "در این قسمت ژن ها را برای هر کروموزوم مقدار شانسی می دهیم و کروموزوم های اولیه را می سازیم. برای تعداد جمعیت پارامتر هایی تعریف می کنیم.\n",
    "</p>"
   ]
  },
  {
   "cell_type": "markdown",
   "metadata": {},
   "source": [
    "<p dir=rtl>\n",
    "تابع زیر با استفاده از ژن های خام یک کروموزوم رندوم می سازد\n",
    "</p>"
   ]
  },
  {
   "cell_type": "code",
   "execution_count": 7,
   "metadata": {},
   "outputs": [],
   "source": [
    "def create_random_chromosome(count_range) -> Chromosome:\n",
    "    gens = list[Gen]()\n",
    "    for i in row_gens:\n",
    "        new_gen = copy.deepcopy(i)\n",
    "        new_gen.set_random_gen()\n",
    "        gens.append(new_gen)\n",
    "    active_count = np.random.randint(count_range[0],count_range[1]+1)\n",
    "    for i in np.random.choice([i for i in range(len(gens))], active_count, replace=False):\n",
    "        gens[i].set_gen_status(True)\n",
    "    return Chromosome(gens,count_range)"
   ]
  },
  {
   "cell_type": "markdown",
   "metadata": {},
   "source": [
    "<p dir=rtl>\n",
    "تابع زیر با کمک تابع قبل کروموزوم های اولیه را می سازد\n",
    "</p>"
   ]
  },
  {
   "cell_type": "code",
   "execution_count": 8,
   "metadata": {},
   "outputs": [],
   "source": [
    "def create_first_generation(count_range) -> list[Chromosome]:\n",
    "    first_chromosomes = list[Chromosome]()\n",
    "    for _ in range(FIRST_GENERATION_COUNT):\n",
    "        first_chromosomes.append(create_random_chromosome(count_range))\n",
    "    return first_chromosomes"
   ]
  },
  {
   "cell_type": "markdown",
   "metadata": {},
   "source": [
    "<p dir=rtl>\n",
    "کارکرد آن را بررسی می کنیم\n",
    "</p>"
   ]
  },
  {
   "cell_type": "code",
   "execution_count": 108,
   "metadata": {},
   "outputs": [
    {
     "name": "stdout",
     "output_type": "stream",
     "text": [
      "###############\n",
      "__________\n",
      "active_count: 2\n",
      "weight: 10.99\n",
      "value: 7.71\n",
      "vpw: 0.70\n",
      "__________\n",
      "------------\n",
      "name: MazMaz\n",
      "status: False\n",
      "weight: 3.42\n",
      "max weight: 10.00\n",
      "vpw: 1.00\n",
      "value: 3.42\n",
      "###############\n",
      "__________\n",
      "active_count: 3\n",
      "weight: 9.39\n",
      "value: 11.02\n",
      "vpw: 1.17\n",
      "__________\n",
      "------------\n",
      "name: MazMaz\n",
      "status: False\n",
      "weight: 0.89\n",
      "max weight: 10.00\n",
      "vpw: 1.00\n",
      "value: 0.89\n"
     ]
    }
   ],
   "source": [
    "FIRST_GENERATION_COUNT = 2\n",
    "test = create_first_generation([2,4])\n",
    "for i in test[:2]:\n",
    "    print(r'###############')\n",
    "    print(i)\n",
    "    print(r'__________')\n",
    "    for j in i.gens[:1]:\n",
    "        print(j)"
   ]
  },
  {
   "cell_type": "markdown",
   "metadata": {},
   "source": [
    "## ساخت تابع فیتنس\n",
    "<p dir=rtl>\n",
    "برای طراحی تابع فیتنس باید موارد زیر را در نظر بگیریم:\n",
    "</p>\n",
    "<ul dir=rtl>\n",
    "    <li> بیشتر بودن ارزش غذایی از ورودی مسئله </li>\n",
    "    <li> کمتر بودن وزن از ورودی مسئله </li>\n",
    "    <li> قرار گرفتن تعداد غذا ها در بازه ورودی مسئله </li>\n",
    "</ul>\n",
    "<p dir=rtl>\n",
    "چون حداکثر وزن هر خوراکی در ژن ها اعمال شده ژن ها از آن عبور نمی کنند بنابراین نیازی به لحاظ کردن آن نیست.\n",
    "</p>\n",
    "<p dir=rtl>\n",
    "موارد زیر را می توان نکات مثبت برای کرموزوم در نظر گرفت:\n",
    "</p>\n",
    "<ul dir=rtl>\n",
    "    <li> بالا بودن vpw </li>\n",
    "    <li> بالا بودن ارزش </li>\n",
    "</ul>"
   ]
  },
  {
   "cell_type": "code",
   "execution_count": 10,
   "metadata": {},
   "outputs": [],
   "source": [
    "def calculate_value_fitness(value:float, condition:float):\n",
    "    diff = value - condition\n",
    "    if diff < 0:\n",
    "        return diff\n",
    "    return diff * POSITIVE_VALUE_RATE\n",
    "\n",
    "def calculate_weight_fitness(weight:float, condition:float):\n",
    "    diff = condition - weight\n",
    "    if diff < 0:\n",
    "        return diff\n",
    "    return diff * POSITIVE_WEIGHT_RATE\n",
    "\n",
    "def calculate_count_fitness(count:int, condition:list[int]):\n",
    "    if count < condition[0]:\n",
    "        return count - condition[0]\n",
    "    if count > condition[1]:\n",
    "        return condition[1] - count\n",
    "    else:\n",
    "        return POSITIVE_COUNT_RATE"
   ]
  },
  {
   "cell_type": "code",
   "execution_count": 11,
   "metadata": {},
   "outputs": [],
   "source": [
    "def calculate_fitness(chromosome:Chromosome, conditions:dict):\n",
    "    value_point =   calculate_value_fitness(chromosome.get_value(), conditions[\"value\"])\n",
    "    weight_point =  calculate_weight_fitness(chromosome.get_weight(), conditions[\"weight\"])\n",
    "    count_point =   calculate_count_fitness(chromosome.get_active_count(), conditions[\"count\"])\n",
    "    return  value_point  *  FITNESS_VALUE_RATE +\\\n",
    "            weight_point *  FITNESS_WEIGHT_RATE +\\\n",
    "            count_point  *  FITNESS_COUNT_RATE "
   ]
  },
  {
   "cell_type": "code",
   "execution_count": 12,
   "metadata": {},
   "outputs": [],
   "source": [
    "def calculate_generation_fitness(generation:list[Chromosome], conditions):\n",
    "    fitness = list[float]()\n",
    "    for i in generation:\n",
    "        fitness.append(calculate_fitness(i, conditions))\n",
    "    return fitness"
   ]
  },
  {
   "cell_type": "markdown",
   "metadata": {},
   "source": [
    "## تولید نسل بعدی\n",
    "<p dir=rtl>\n",
    "تابع جهش و تلفیق در کلاس ها نوشته شده در این بخش با استفاده از آنها و تابع فیتنس نسل بعد را تولید می کنیم.\n",
    "</p>"
   ]
  },
  {
   "cell_type": "markdown",
   "metadata": {},
   "source": [
    "<p dir=rtl>\n",
    "مراحل تابع تولید نسل به صورت زیر است:\n",
    "</p>\n",
    "<ol dir=rtl>\n",
    "    <li> تبدیل فیتنس ها به احتمال </li>\n",
    "    <li> جفت کردن کروموزوم ها با در نظر گرفتن احتمال </li>\n",
    "    <li> تولید کروموزوم های جدید با تلفیق جفت ها </li>\n",
    "    <li> جهش کروموزوم ها </li>\n",
    "    <li> افزودن کروموزوم ها به نسل جدید </li>\n",
    "</ol>"
   ]
  },
  {
   "cell_type": "markdown",
   "metadata": {},
   "source": [
    "<p dir=rtl>\n",
    "تابع زیر جهت تبدیل فیتنس به احتمال انتخاب است. به این صورت که کوچکترین عدد را اگر از ۱ کوچک تر است همه اعداد را طوری جمع می زند که آن عدد ۱ شود و سپس احتمال را برابر نسبت فیتنس به جمع کل فیتنس ها قرار می دهد\n",
    "</p>"
   ]
  },
  {
   "cell_type": "code",
   "execution_count": 13,
   "metadata": {},
   "outputs": [],
   "source": [
    "def convert_fitness_to_probability_of_choice(generation_fitness:list[float]):\n",
    "    minimum = min(generation_fitness)\n",
    "    if minimum <= 0:\n",
    "        generation_fitness = [i + abs(minimum) + 1 for i in generation_fitness]\n",
    "    sum_all = sum(generation_fitness)\n",
    "    return [i/sum_all for i in generation_fitness]"
   ]
  },
  {
   "cell_type": "code",
   "execution_count": 14,
   "metadata": {},
   "outputs": [],
   "source": [
    "def create_children(pair:tuple[Chromosome, Chromosome]) -> tuple[Chromosome, Chromosome]:\n",
    "    children = tuple[Chromosome, Chromosome]()\n",
    "    \n",
    "    if HAVE_CROSSOVER:\n",
    "        children = pair[0] + pair[1]\n",
    "    else:\n",
    "        children = copy.deepcopy(pair)\n",
    "    \n",
    "    if HAVE_MUTATION:\n",
    "        for i in children:\n",
    "            i.mutation()\n",
    "    \n",
    "    return children"
   ]
  },
  {
   "cell_type": "code",
   "execution_count": 15,
   "metadata": {},
   "outputs": [],
   "source": [
    "def create_next_generation(generation:list[Chromosome], generation_fitness:list[float],\n",
    "                           size:int) -> list[Chromosome]:\n",
    "    probability_of_choice = convert_fitness_to_probability_of_choice(generation_fitness)\n",
    "    rand_choice = np.random.choice(generation, size, p=probability_of_choice)\n",
    "    next_generation = list[Chromosome]()\n",
    "    for i in range(math.floor(size/2)):\n",
    "        children = create_children((rand_choice[i*2], rand_choice[i*2+1]))\n",
    "        next_generation.extend(children)\n",
    "    \n",
    "    return next_generation"
   ]
  },
  {
   "cell_type": "markdown",
   "metadata": {},
   "source": [
    "## ایجاد الگوریتم ژنتیک\n",
    "<p dir=rtl>\n",
    "در آخر باید الگوریتم ژنتیک را پیاده کنیم که مراحل زیر را دارد:\n",
    "</p>\n",
    "<ol dir=rtl>\n",
    "    <li> تولید نسل اول </li>\n",
    "    <li>  تولید نسل های بعدی و محاسبه فیتنس آنها </li>\n",
    "    <li> نمایش بهترین های نسل آخر به عنوان جواب </li>\n",
    "</ol>"
   ]
  },
  {
   "cell_type": "code",
   "execution_count": 16,
   "metadata": {},
   "outputs": [],
   "source": [
    "def check_chromosome(chromosome:Chromosome, conditions):\n",
    "    return calculate_value_fitness(chromosome.get_value(), conditions[\"value\"]) >= 0 and\\\n",
    "           calculate_weight_fitness(chromosome.get_weight(), conditions[\"weight\"]) >= 0 and\\\n",
    "           calculate_count_fitness(chromosome.get_active_count(), conditions[\"count\"]) >= 0\n",
    "def get_generation_size(step:int):\n",
    "    return int(round(step * INCREASE_GENERATION_RATE * FIRST_GENERATION_COUNT + FIRST_GENERATION_COUNT))\n",
    "def find_best_chromosome(generation:list[Chromosome], generation_fitness:list[float]):\n",
    "    return generation[np.argmax(generation_fitness)]"
   ]
  },
  {
   "cell_type": "code",
   "execution_count": null,
   "metadata": {},
   "outputs": [],
   "source": [
    "def solve_with_genetic(conditions):\n",
    "    generation = create_first_generation(conditions[\"count\"])\n",
    "    generation_fitness = calculate_generation_fitness(generation, conditions)\n",
    "    \n",
    "    for i in range(GENERATION_STEP):\n",
    "        generation = create_next_generation(generation, generation_fitness, get_generation_size(i))\n",
    "        \n",
    "        generation_fitness = calculate_generation_fitness(generation, conditions)\n",
    "        \n",
    "        best_chromosome = find_best_chromosome(generation, generation_fitness)\n",
    "        \n",
    "        if check_chromosome(best_chromosome, conditions):\n",
    "            return best_chromosome, i\n",
    "    raise Exception(\"doesn't find\")"
   ]
  },
  {
   "cell_type": "code",
   "execution_count": 120,
   "metadata": {},
   "outputs": [],
   "source": [
    "def solve_with_genetic(conditions):\n",
    "    best_chromosome = Chromosome\n",
    "    generation = create_first_generation(conditions[\"count\"])\n",
    "    generation_fitness = calculate_generation_fitness(generation, conditions)\n",
    "    for i in range(GENERATION_STEP):\n",
    "        generation = create_next_generation(generation, generation_fitness\n",
    "                                            , get_generation_size(i))\n",
    "        generation_fitness = calculate_generation_fitness(generation, conditions)\n",
    "        best_chromosome = find_best_chromosome(generation, generation_fitness)\n",
    "        if PRINT_ACTIVE and i%PRINT_RATE == 0:\n",
    "            print(f\"step {i}, best:{calculate_fitness(best_chromosome, conditions):.2f}, avg:{np.average([calculate_fitness(i, conditions) for i in generation]):.2f}, size:{len(generation)}\")\n",
    "            # print(i, calculate_fitness(best_chromosome, conditions), np.average([calculate_fitness(i, conditions) for i in generation]), len(generation))\n",
    "        if check_chromosome(best_chromosome, conditions):\n",
    "            if PRINT_ACTIVE:\n",
    "                print(f\"step {i}, best:{calculate_fitness(best_chromosome, conditions):.2f}, avg:{np.average([calculate_fitness(i, conditions) for i in generation]):.2f}, size:{len(generation)}\")\n",
    "                # print(calculate_fitness(best_chromosome, conditions), np.average([calculate_fitness(i, conditions) for i in generation]))\n",
    "            return best_chromosome, i\n",
    "    raise Exception(\"doesn't find\")"
   ]
  },
  {
   "cell_type": "markdown",
   "metadata": {},
   "source": [
    "## بررسی نتایج"
   ]
  },
  {
   "cell_type": "markdown",
   "metadata": {},
   "source": [
    "<p dir=rtl>\n",
    "ابتدا با یک تنظیم اولیه آزمایش می کنیم و می بینیم که میانگین تغییری نمی کند ولی به جواب می رسیم\n",
    "</p>"
   ]
  },
  {
   "cell_type": "code",
   "execution_count": 198,
   "metadata": {},
   "outputs": [
    {
     "name": "stdout",
     "output_type": "stream",
     "text": [
      "__________\n",
      "active_count: 3\n",
      "weight: 8.86\n",
      "value: 12.82\n",
      "vpw: 1.45\n",
      "-------\n",
      "step: 0\n",
      "size: 20\n"
     ]
    }
   ],
   "source": [
    "conditions = {\"weight\": 10,\n",
    "              \"value\": 21,\n",
    "              \"count\": [3,19]}\n",
    "conditions = {\"weight\": 10,\n",
    "              \"value\": 12,\n",
    "              \"count\": [2,4]}\n",
    "\n",
    "# Generation parameter\n",
    "FIRST_GENERATION_COUNT = 20\n",
    "GENERATION_STEP = 100000\n",
    "INCREASE_GENERATION_RATE = 0\n",
    "PRINT_RATE = 100\n",
    "\n",
    "# Enable feature\n",
    "PRINT_ACTIVE = False\n",
    "HAVE_CROSSOVER = True\n",
    "HAVE_MUTATION = True\n",
    "\n",
    "# Feature rate\n",
    "WIGHT_MUTATION_RATE = 0.2\n",
    "CHROMOSOME_MUTATION_RATE = 0.05\n",
    "WIGHT_MUTATION_CHANCE = 0.3\n",
    "CROSSOVER_CHANCE = 1/3\n",
    "\n",
    "MIN_WEIGHT = 0.5\n",
    "IS_WIGHT_MUTATION_IF_DEACTIVATE = True\n",
    "SWAP_CHANCE_IN_CROSSOVER = 1/5\n",
    "POSITIVE_VALUE_RATE = 0.1\n",
    "POSITIVE_WEIGHT_RATE = 0\n",
    "POSITIVE_COUNT_RATE = 0\n",
    "FITNESS_VALUE_RATE = 1\n",
    "FITNESS_WEIGHT_RATE = 1\n",
    "FITNESS_COUNT_RATE = 1\n",
    "\n",
    "best_chromosome, step = solve_with_genetic(conditions)\n",
    "# for i in best_chromosome.gens:\n",
    "#     if i.get_is_active():\n",
    "#         print(i)\n",
    "print(best_chromosome)\n",
    "print(f\"-------\\nstep: {step}\")\n",
    "print(f\"size: {FIRST_GENERATION_COUNT}\")"
   ]
  },
  {
   "cell_type": "code",
   "execution_count": 190,
   "metadata": {},
   "outputs": [
    {
     "data": {
      "text/plain": [
       "0.4086128234863281"
      ]
     },
     "execution_count": 190,
     "metadata": {},
     "output_type": "execute_result"
    }
   ],
   "source": [
    "def get_average_time(count, conditions):\n",
    "    time_list = list()\n",
    "    for _ in range(count):\n",
    "        start_time = time.time()\n",
    "        solve_with_genetic(conditions)\n",
    "        time_list.append(time.time() - start_time)\n",
    "    return np.average(time_list)\n",
    "get_average_time(5, conditions)"
   ]
  },
  {
   "cell_type": "code",
   "execution_count": 54,
   "metadata": {},
   "outputs": [],
   "source": [
    "def test_parameter(conditions, parameter_range, step, run_count):\n",
    "    global FIRST_GENERATION_COUNT\n",
    "    timer = dict()\n",
    "    for i in range(parameter_range[0], parameter_range[1], round((parameter_range[1] - parameter_range[0]) / step)):\n",
    "        FIRST_GENERATION_COUNT = i\n",
    "        timer[FIRST_GENERATION_COUNT] = get_average_time(run_count, conditions)\n",
    "        print(f\"{i}: {timer[FIRST_GENERATION_COUNT]:.4f}\")\n",
    "    return timer"
   ]
  },
  {
   "cell_type": "code",
   "execution_count": null,
   "metadata": {},
   "outputs": [],
   "source": [
    "conditions = {\"weight\": 10,\n",
    "              \"value\": 12,\n",
    "              \"count\": [2,4]}\n",
    "parameter_range = [5, 50]\n",
    "step = 40\n",
    "run_count = 10\n",
    "timer = test_parameter(conditions, parameter_range, step, run_count)\n",
    "json_data = json.dumps(timer, indent=4)\n",
    "file_path = f\"data_{parameter_range[0]}_{parameter_range[1]}_{random.randint(1, 1000)}.json\"\n",
    "with open(file_path, \"w\") as file:\n",
    "    file.write(json_data)\n",
    "print(f\"Data has been saved to {file_path}\")"
   ]
  },
  {
   "cell_type": "code",
   "execution_count": 145,
   "metadata": {},
   "outputs": [
    {
     "data": {
      "text/plain": [
       "<BarContainer object of 598 artists>"
      ]
     },
     "execution_count": 145,
     "metadata": {},
     "output_type": "execute_result"
    },
    {
     "data": {
      "image/png": "[encoded data removed]",
      "text/plain": [
       "<Figure size 640x480 with 1 Axes>"
      ]
     },
     "metadata": {},
     "output_type": "display_data"
    }
   ],
   "source": [
    "timer = dict()\n",
    "with open('./data_5_10000.json') as file:\n",
    "    timer = json.load(file)\n",
    "plt.bar(list(timer.keys()), timer.values(),width=5)"
   ]
  },
  {
   "cell_type": "markdown",
   "metadata": {},
   "source": [
    "## Change parameter"
   ]
  },
  {
   "cell_type": "markdown",
   "metadata": {},
   "source": [
    "### mutation"
   ]
  },
  {
   "cell_type": "code",
   "execution_count": 207,
   "metadata": {},
   "outputs": [
    {
     "data": {
      "text/plain": [
       "2.086403322219849"
      ]
     },
     "execution_count": 207,
     "metadata": {},
     "output_type": "execute_result"
    }
   ],
   "source": [
    "conditions = {\"weight\": 10,\n",
    "              \"value\": 21,\n",
    "              \"count\": [3,19]}\n",
    "\n",
    "# Generation parameter\n",
    "FIRST_GENERATION_COUNT = 20\n",
    "GENERATION_STEP = 100000\n",
    "INCREASE_GENERATION_RATE = 0\n",
    "PRINT_RATE = 100\n",
    "\n",
    "# Enable feature\n",
    "PRINT_ACTIVE = False\n",
    "HAVE_CROSSOVER = True\n",
    "HAVE_MUTATION = True\n",
    "\n",
    "# Feature rate\n",
    "WIGHT_MUTATION_RATE = 0.2\n",
    "CHROMOSOME_MUTATION_RATE = 0.05\n",
    "WIGHT_MUTATION_CHANCE = 0.3\n",
    "CROSSOVER_CHANCE = 1/3\n",
    "get_average_time(5, conditions)"
   ]
  },
  {
   "cell_type": "code",
   "execution_count": 211,
   "metadata": {},
   "outputs": [
    {
     "data": {
      "text/plain": [
       "3.544425630569458"
      ]
     },
     "execution_count": 211,
     "metadata": {},
     "output_type": "execute_result"
    }
   ],
   "source": [
    "# Feature rate\n",
    "WIGHT_MUTATION_RATE = 0.1\n",
    "CHROMOSOME_MUTATION_RATE = 0.02\n",
    "WIGHT_MUTATION_CHANCE = 0.1\n",
    "CROSSOVER_CHANCE = 1/3\n",
    "get_average_time(5, conditions)"
   ]
  },
  {
   "cell_type": "code",
   "execution_count": 215,
   "metadata": {},
   "outputs": [
    {
     "ename": "KeyboardInterrupt",
     "evalue": "",
     "output_type": "error",
     "traceback": [
      "\u001b[0;31m---------------------------------------------------------------------------\u001b[0m",
      "\u001b[0;31mKeyboardInterrupt\u001b[0m                         Traceback (most recent call last)",
      "Cell \u001b[0;32mIn[215], line 6\u001b[0m\n\u001b[1;32m      4\u001b[0m WIGHT_MUTATION_CHANCE \u001b[38;5;241m=\u001b[39m \u001b[38;5;241m0.6\u001b[39m\n\u001b[1;32m      5\u001b[0m CROSSOVER_CHANCE \u001b[38;5;241m=\u001b[39m \u001b[38;5;241m1\u001b[39m\u001b[38;5;241m/\u001b[39m\u001b[38;5;241m3\u001b[39m\n\u001b[0;32m----> 6\u001b[0m \u001b[43mget_average_time\u001b[49m\u001b[43m(\u001b[49m\u001b[38;5;241;43m1\u001b[39;49m\u001b[43m,\u001b[49m\u001b[43m \u001b[49m\u001b[43mconditions\u001b[49m\u001b[43m)\u001b[49m\n",
      "Cell \u001b[0;32mIn[190], line 5\u001b[0m, in \u001b[0;36mget_average_time\u001b[0;34m(count, conditions)\u001b[0m\n\u001b[1;32m      3\u001b[0m \u001b[38;5;28;01mfor\u001b[39;00m _ \u001b[38;5;129;01min\u001b[39;00m \u001b[38;5;28mrange\u001b[39m(count):\n\u001b[1;32m      4\u001b[0m     start_time \u001b[38;5;241m=\u001b[39m time\u001b[38;5;241m.\u001b[39mtime()\n\u001b[0;32m----> 5\u001b[0m     \u001b[43msolve_with_genetic\u001b[49m\u001b[43m(\u001b[49m\u001b[43mconditions\u001b[49m\u001b[43m)\u001b[49m\n\u001b[1;32m      6\u001b[0m     time_list\u001b[38;5;241m.\u001b[39mappend(time\u001b[38;5;241m.\u001b[39mtime() \u001b[38;5;241m-\u001b[39m start_time)\n\u001b[1;32m      7\u001b[0m \u001b[38;5;28;01mreturn\u001b[39;00m np\u001b[38;5;241m.\u001b[39maverage(time_list)\n",
      "Cell \u001b[0;32mIn[120], line 6\u001b[0m, in \u001b[0;36msolve_with_genetic\u001b[0;34m(conditions)\u001b[0m\n\u001b[1;32m      4\u001b[0m generation_fitness \u001b[38;5;241m=\u001b[39m calculate_generation_fitness(generation, conditions)\n\u001b[1;32m      5\u001b[0m \u001b[38;5;28;01mfor\u001b[39;00m i \u001b[38;5;129;01min\u001b[39;00m \u001b[38;5;28mrange\u001b[39m(GENERATION_STEP):\n\u001b[0;32m----> 6\u001b[0m     generation \u001b[38;5;241m=\u001b[39m \u001b[43mcreate_next_generation\u001b[49m\u001b[43m(\u001b[49m\u001b[43mgeneration\u001b[49m\u001b[43m,\u001b[49m\u001b[43m \u001b[49m\u001b[43mgeneration_fitness\u001b[49m\n\u001b[1;32m      7\u001b[0m \u001b[43m                                        \u001b[49m\u001b[43m,\u001b[49m\u001b[43m \u001b[49m\u001b[43mget_generation_size\u001b[49m\u001b[43m(\u001b[49m\u001b[43mi\u001b[49m\u001b[43m)\u001b[49m\u001b[43m)\u001b[49m\n\u001b[1;32m      8\u001b[0m     generation_fitness \u001b[38;5;241m=\u001b[39m calculate_generation_fitness(generation, conditions)\n\u001b[1;32m      9\u001b[0m     best_chromosome \u001b[38;5;241m=\u001b[39m find_best_chromosome(generation, generation_fitness)\n",
      "Cell \u001b[0;32mIn[15], line 7\u001b[0m, in \u001b[0;36mcreate_next_generation\u001b[0;34m(generation, generation_fitness, size)\u001b[0m\n\u001b[1;32m      5\u001b[0m next_generation \u001b[38;5;241m=\u001b[39m \u001b[38;5;28mlist\u001b[39m[Chromosome]()\n\u001b[1;32m      6\u001b[0m \u001b[38;5;28;01mfor\u001b[39;00m i \u001b[38;5;129;01min\u001b[39;00m \u001b[38;5;28mrange\u001b[39m(math\u001b[38;5;241m.\u001b[39mfloor(size\u001b[38;5;241m/\u001b[39m\u001b[38;5;241m2\u001b[39m)):\n\u001b[0;32m----> 7\u001b[0m     children \u001b[38;5;241m=\u001b[39m \u001b[43mcreate_children\u001b[49m\u001b[43m(\u001b[49m\u001b[43m(\u001b[49m\u001b[43mrand_choice\u001b[49m\u001b[43m[\u001b[49m\u001b[43mi\u001b[49m\u001b[38;5;241;43m*\u001b[39;49m\u001b[38;5;241;43m2\u001b[39;49m\u001b[43m]\u001b[49m\u001b[43m,\u001b[49m\u001b[43m \u001b[49m\u001b[43mrand_choice\u001b[49m\u001b[43m[\u001b[49m\u001b[43mi\u001b[49m\u001b[38;5;241;43m*\u001b[39;49m\u001b[38;5;241;43m2\u001b[39;49m\u001b[38;5;241;43m+\u001b[39;49m\u001b[38;5;241;43m1\u001b[39;49m\u001b[43m]\u001b[49m\u001b[43m)\u001b[49m\u001b[43m)\u001b[49m\n\u001b[1;32m      8\u001b[0m     next_generation\u001b[38;5;241m.\u001b[39mextend(children)\n\u001b[1;32m     10\u001b[0m \u001b[38;5;28;01mreturn\u001b[39;00m next_generation\n",
      "Cell \u001b[0;32mIn[14], line 5\u001b[0m, in \u001b[0;36mcreate_children\u001b[0;34m(pair)\u001b[0m\n\u001b[1;32m      2\u001b[0m children \u001b[38;5;241m=\u001b[39m \u001b[38;5;28mtuple\u001b[39m[Chromosome, Chromosome]()\n\u001b[1;32m      4\u001b[0m \u001b[38;5;28;01mif\u001b[39;00m HAVE_CROSSOVER:\n\u001b[0;32m----> 5\u001b[0m     children \u001b[38;5;241m=\u001b[39m \u001b[43mpair\u001b[49m\u001b[43m[\u001b[49m\u001b[38;5;241;43m0\u001b[39;49m\u001b[43m]\u001b[49m\u001b[43m \u001b[49m\u001b[38;5;241;43m+\u001b[39;49m\u001b[43m \u001b[49m\u001b[43mpair\u001b[49m\u001b[43m[\u001b[49m\u001b[38;5;241;43m1\u001b[39;49m\u001b[43m]\u001b[49m\n\u001b[1;32m      6\u001b[0m \u001b[38;5;28;01melse\u001b[39;00m:\n\u001b[1;32m      7\u001b[0m     children \u001b[38;5;241m=\u001b[39m copy\u001b[38;5;241m.\u001b[39mdeepcopy(pair)\n",
      "Cell \u001b[0;32mIn[3], line 46\u001b[0m, in \u001b[0;36mChromosome.__add__\u001b[0;34m(self, pair)\u001b[0m\n\u001b[1;32m     43\u001b[0m \u001b[38;5;28;01mdef\u001b[39;00m \u001b[38;5;21m__add__\u001b[39m(\u001b[38;5;28mself\u001b[39m, pair):\n\u001b[1;32m     44\u001b[0m     \u001b[38;5;28;01mif\u001b[39;00m random\u001b[38;5;241m.\u001b[39mchoices([\u001b[38;5;28;01mTrue\u001b[39;00m, \u001b[38;5;28;01mFalse\u001b[39;00m],\n\u001b[1;32m     45\u001b[0m                       [CROSSOVER_CHANCE,\u001b[38;5;241m1\u001b[39m \u001b[38;5;241m-\u001b[39m CROSSOVER_CHANCE])[\u001b[38;5;241m0\u001b[39m]:\n\u001b[0;32m---> 46\u001b[0m         \u001b[38;5;28;01mreturn\u001b[39;00m \u001b[38;5;28;43mself\u001b[39;49m\u001b[38;5;241;43m.\u001b[39;49m\u001b[43mcrossover\u001b[49m\u001b[43m(\u001b[49m\u001b[43mpair\u001b[49m\u001b[43m)\u001b[49m\n\u001b[1;32m     47\u001b[0m     \u001b[38;5;28;01mreturn\u001b[39;00m \u001b[38;5;28mself\u001b[39m, pair\n",
      "Cell \u001b[0;32mIn[3], line 51\u001b[0m, in \u001b[0;36mChromosome.crossover\u001b[0;34m(self, pair)\u001b[0m\n\u001b[1;32m     49\u001b[0m \u001b[38;5;28;01mdef\u001b[39;00m \u001b[38;5;21mcrossover\u001b[39m(\u001b[38;5;28mself\u001b[39m, pair):\n\u001b[1;32m     50\u001b[0m     all_active_gen, count \u001b[38;5;241m=\u001b[39m \u001b[38;5;28mself\u001b[39m\u001b[38;5;241m.\u001b[39mget_active_gen_and_number(pair)\n\u001b[0;32m---> 51\u001b[0m     child_1 \u001b[38;5;241m=\u001b[39m \u001b[38;5;28;43mself\u001b[39;49m\u001b[38;5;241;43m.\u001b[39;49m\u001b[43mcreate_gens_for_new_chromosome\u001b[49m\u001b[43m(\u001b[49m\u001b[43mall_active_gen\u001b[49m\u001b[43m,\u001b[49m\u001b[43m \u001b[49m\u001b[43mcount\u001b[49m\u001b[43m,\u001b[49m\u001b[43m \u001b[49m\u001b[43mpair\u001b[49m\u001b[43m)\u001b[49m\n\u001b[1;32m     52\u001b[0m     child_2 \u001b[38;5;241m=\u001b[39m \u001b[38;5;28mself\u001b[39m\u001b[38;5;241m.\u001b[39mcreate_gens_for_new_chromosome(all_active_gen, count, pair)\n\u001b[1;32m     54\u001b[0m     \u001b[38;5;28;01mreturn\u001b[39;00m Chromosome(child_1, \u001b[38;5;28mself\u001b[39m\u001b[38;5;241m.\u001b[39mcount_range), Chromosome(child_2, \u001b[38;5;28mself\u001b[39m\u001b[38;5;241m.\u001b[39mcount_range)\n",
      "Cell \u001b[0;32mIn[3], line 59\u001b[0m, in \u001b[0;36mChromosome.create_gens_for_new_chromosome\u001b[0;34m(self, active_gen, count, pair)\u001b[0m\n\u001b[1;32m     56\u001b[0m \u001b[38;5;28;01mdef\u001b[39;00m \u001b[38;5;21mcreate_gens_for_new_chromosome\u001b[39m(\u001b[38;5;28mself\u001b[39m, active_gen, count, pair):\n\u001b[1;32m     57\u001b[0m     new_active_gen \u001b[38;5;241m=\u001b[39m np\u001b[38;5;241m.\u001b[39mrandom\u001b[38;5;241m.\u001b[39mchoice(\u001b[38;5;28mlist\u001b[39m(active_gen\u001b[38;5;241m.\u001b[39mkeys()),\n\u001b[1;32m     58\u001b[0m                                       count[np\u001b[38;5;241m.\u001b[39mrandom\u001b[38;5;241m.\u001b[39mrandint(\u001b[38;5;241m2\u001b[39m)], replace\u001b[38;5;241m=\u001b[39m\u001b[38;5;28;01mFalse\u001b[39;00m)\n\u001b[0;32m---> 59\u001b[0m     new_gens \u001b[38;5;241m=\u001b[39m \u001b[38;5;28;43mself\u001b[39;49m\u001b[38;5;241;43m.\u001b[39;49m\u001b[43mcreate_gens_from_pair\u001b[49m\u001b[43m(\u001b[49m\u001b[43mpair\u001b[49m\u001b[43m)\u001b[49m\n\u001b[1;32m     61\u001b[0m     \u001b[38;5;28;01mfor\u001b[39;00m gen_index \u001b[38;5;129;01min\u001b[39;00m new_active_gen:\n\u001b[1;32m     62\u001b[0m         parent \u001b[38;5;241m=\u001b[39m [\u001b[38;5;28mself\u001b[39m, pair][np\u001b[38;5;241m.\u001b[39mrandom\u001b[38;5;241m.\u001b[39mrandint(\u001b[38;5;28mlen\u001b[39m(active_gen[gen_index]))]\n",
      "Cell \u001b[0;32mIn[3], line 89\u001b[0m, in \u001b[0;36mChromosome.create_gens_from_pair\u001b[0;34m(self, pair)\u001b[0m\n\u001b[1;32m     87\u001b[0m \u001b[38;5;28;01mfor\u001b[39;00m i \u001b[38;5;129;01min\u001b[39;00m \u001b[38;5;28mrange\u001b[39m(\u001b[38;5;28mlen\u001b[39m(\u001b[38;5;28mself\u001b[39m\u001b[38;5;241m.\u001b[39mgens)):\n\u001b[1;32m     88\u001b[0m     \u001b[38;5;28;01mif\u001b[39;00m np\u001b[38;5;241m.\u001b[39mrandom\u001b[38;5;241m.\u001b[39mrandint(\u001b[38;5;241m2\u001b[39m):\n\u001b[0;32m---> 89\u001b[0m         new_gen \u001b[38;5;241m=\u001b[39m \u001b[43mcopy\u001b[49m\u001b[38;5;241;43m.\u001b[39;49m\u001b[43mdeepcopy\u001b[49m\u001b[43m(\u001b[49m\u001b[38;5;28;43mself\u001b[39;49m\u001b[38;5;241;43m.\u001b[39;49m\u001b[43mgens\u001b[49m\u001b[43m[\u001b[49m\u001b[43mi\u001b[49m\u001b[43m]\u001b[49m\u001b[43m)\u001b[49m\n\u001b[1;32m     90\u001b[0m     \u001b[38;5;28;01melse\u001b[39;00m:\n\u001b[1;32m     91\u001b[0m         new_gen \u001b[38;5;241m=\u001b[39m copy\u001b[38;5;241m.\u001b[39mdeepcopy(pair\u001b[38;5;241m.\u001b[39mgens[i])\n",
      "File \u001b[0;32m/usr/lib/python3.10/copy.py:172\u001b[0m, in \u001b[0;36mdeepcopy\u001b[0;34m(x, memo, _nil)\u001b[0m\n\u001b[1;32m    170\u001b[0m                 y \u001b[38;5;241m=\u001b[39m x\n\u001b[1;32m    171\u001b[0m             \u001b[38;5;28;01melse\u001b[39;00m:\n\u001b[0;32m--> 172\u001b[0m                 y \u001b[38;5;241m=\u001b[39m \u001b[43m_reconstruct\u001b[49m\u001b[43m(\u001b[49m\u001b[43mx\u001b[49m\u001b[43m,\u001b[49m\u001b[43m \u001b[49m\u001b[43mmemo\u001b[49m\u001b[43m,\u001b[49m\u001b[43m \u001b[49m\u001b[38;5;241;43m*\u001b[39;49m\u001b[43mrv\u001b[49m\u001b[43m)\u001b[49m\n\u001b[1;32m    174\u001b[0m \u001b[38;5;66;03m# If is its own copy, don't memoize.\u001b[39;00m\n\u001b[1;32m    175\u001b[0m \u001b[38;5;28;01mif\u001b[39;00m y \u001b[38;5;129;01mis\u001b[39;00m \u001b[38;5;129;01mnot\u001b[39;00m x:\n",
      "File \u001b[0;32m/usr/lib/python3.10/copy.py:275\u001b[0m, in \u001b[0;36m_reconstruct\u001b[0;34m(x, memo, func, args, state, listiter, dictiter, deepcopy)\u001b[0m\n\u001b[1;32m    273\u001b[0m     y\u001b[38;5;241m.\u001b[39m__setstate__(state)\n\u001b[1;32m    274\u001b[0m \u001b[38;5;28;01melse\u001b[39;00m:\n\u001b[0;32m--> 275\u001b[0m     \u001b[38;5;28;01mif\u001b[39;00m \u001b[38;5;28;43misinstance\u001b[39;49m\u001b[43m(\u001b[49m\u001b[43mstate\u001b[49m\u001b[43m,\u001b[49m\u001b[43m \u001b[49m\u001b[38;5;28;43mtuple\u001b[39;49m\u001b[43m)\u001b[49m \u001b[38;5;129;01mand\u001b[39;00m \u001b[38;5;28mlen\u001b[39m(state) \u001b[38;5;241m==\u001b[39m \u001b[38;5;241m2\u001b[39m:\n\u001b[1;32m    276\u001b[0m         state, slotstate \u001b[38;5;241m=\u001b[39m state\n\u001b[1;32m    277\u001b[0m     \u001b[38;5;28;01melse\u001b[39;00m:\n",
      "\u001b[0;31mKeyboardInterrupt\u001b[0m: "
     ]
    }
   ],
   "source": [
    "# Feature rate\n",
    "WIGHT_MUTATION_RATE = 0.5\n",
    "CHROMOSOME_MUTATION_RATE = 0.4\n",
    "WIGHT_MUTATION_CHANCE = 0.6\n",
    "CROSSOVER_CHANCE = 1/3\n",
    "# get_average_time(1, conditions)"
   ]
  },
  {
   "cell_type": "markdown",
   "metadata": {},
   "source": [
    "### cross"
   ]
  },
  {
   "cell_type": "code",
   "execution_count": 218,
   "metadata": {},
   "outputs": [
    {
     "data": {
      "text/plain": [
       "1.7758838176727294"
      ]
     },
     "execution_count": 218,
     "metadata": {},
     "output_type": "execute_result"
    }
   ],
   "source": [
    "conditions = {\"weight\": 10,\n",
    "              \"value\": 21,\n",
    "              \"count\": [3,19]}\n",
    "\n",
    "# Generation parameter\n",
    "FIRST_GENERATION_COUNT = 20\n",
    "GENERATION_STEP = 100000\n",
    "INCREASE_GENERATION_RATE = 0\n",
    "PRINT_RATE = 100\n",
    "\n",
    "# Enable feature\n",
    "PRINT_ACTIVE = False\n",
    "HAVE_CROSSOVER = True\n",
    "HAVE_MUTATION = True\n",
    "\n",
    "# Feature rate\n",
    "WIGHT_MUTATION_RATE = 0.2\n",
    "CHROMOSOME_MUTATION_RATE = 0.05\n",
    "WIGHT_MUTATION_CHANCE = 0.3\n",
    "CROSSOVER_CHANCE = 1/3\n",
    "get_average_time(5, conditions)"
   ]
  },
  {
   "cell_type": "code",
   "execution_count": 223,
   "metadata": {},
   "outputs": [
    {
     "data": {
      "text/plain": [
       "2.080276107788086"
      ]
     },
     "execution_count": 223,
     "metadata": {},
     "output_type": "execute_result"
    }
   ],
   "source": [
    "CROSSOVER_CHANCE = 1/2\n",
    "get_average_time(5, conditions)"
   ]
  },
  {
   "cell_type": "code",
   "execution_count": 221,
   "metadata": {},
   "outputs": [
    {
     "data": {
      "text/plain": [
       "6.7754968166351315"
      ]
     },
     "execution_count": 221,
     "metadata": {},
     "output_type": "execute_result"
    }
   ],
   "source": [
    "CROSSOVER_CHANCE = 1\n",
    "get_average_time(5, conditions)"
   ]
  },
  {
   "cell_type": "code",
   "execution_count": 222,
   "metadata": {},
   "outputs": [
    {
     "data": {
      "text/plain": [
       "1.9707682609558106"
      ]
     },
     "execution_count": 222,
     "metadata": {},
     "output_type": "execute_result"
    }
   ],
   "source": [
    "CROSSOVER_CHANCE = 1/6\n",
    "get_average_time(5, conditions)"
   ]
  },
  {
   "cell_type": "code",
   "execution_count": 225,
   "metadata": {},
   "outputs": [
    {
     "data": {
      "text/plain": [
       "37.190229654312134"
      ]
     },
     "execution_count": 225,
     "metadata": {},
     "output_type": "execute_result"
    }
   ],
   "source": [
    "CROSSOVER_CHANCE = 1/15\n",
    "get_average_time(1, conditions)"
   ]
  },
  {
   "cell_type": "markdown",
   "metadata": {},
   "source": [
    "### fitness"
   ]
  },
  {
   "cell_type": "code",
   "execution_count": 226,
   "metadata": {},
   "outputs": [
    {
     "data": {
      "text/plain": [
       "1.2988610744476319"
      ]
     },
     "execution_count": 226,
     "metadata": {},
     "output_type": "execute_result"
    }
   ],
   "source": [
    "conditions = {\"weight\": 10,\n",
    "              \"value\": 21,\n",
    "              \"count\": [3,19]}\n",
    "\n",
    "# Generation parameter\n",
    "FIRST_GENERATION_COUNT = 20\n",
    "GENERATION_STEP = 100000\n",
    "INCREASE_GENERATION_RATE = 0\n",
    "PRINT_RATE = 100\n",
    "\n",
    "# Enable feature\n",
    "PRINT_ACTIVE = False\n",
    "HAVE_CROSSOVER = True\n",
    "HAVE_MUTATION = True\n",
    "\n",
    "# Feature rate\n",
    "WIGHT_MUTATION_RATE = 0.2\n",
    "CHROMOSOME_MUTATION_RATE = 0.05\n",
    "WIGHT_MUTATION_CHANCE = 0.3\n",
    "CROSSOVER_CHANCE = 1/3\n",
    "\n",
    "POSITIVE_VALUE_RATE = 0.1\n",
    "POSITIVE_WEIGHT_RATE = 0\n",
    "POSITIVE_COUNT_RATE = 0\n",
    "FITNESS_VALUE_RATE = 1\n",
    "FITNESS_WEIGHT_RATE = 1\n",
    "FITNESS_COUNT_RATE = 1\n",
    "get_average_time(5, conditions)"
   ]
  },
  {
   "cell_type": "code",
   "execution_count": 228,
   "metadata": {},
   "outputs": [
    {
     "data": {
      "text/plain": [
       "1.2773744106292724"
      ]
     },
     "execution_count": 228,
     "metadata": {},
     "output_type": "execute_result"
    }
   ],
   "source": [
    "POSITIVE_VALUE_RATE = 0.2\n",
    "POSITIVE_WEIGHT_RATE = 0.2\n",
    "POSITIVE_COUNT_RATE = 0.4\n",
    "FITNESS_VALUE_RATE = 1\n",
    "FITNESS_WEIGHT_RATE = 1\n",
    "FITNESS_COUNT_RATE = 1\n",
    "get_average_time(5, conditions)"
   ]
  },
  {
   "cell_type": "code",
   "execution_count": 229,
   "metadata": {},
   "outputs": [
    {
     "data": {
      "text/plain": [
       "1.229006290435791"
      ]
     },
     "execution_count": 229,
     "metadata": {},
     "output_type": "execute_result"
    }
   ],
   "source": [
    "POSITIVE_VALUE_RATE = 0.6\n",
    "POSITIVE_WEIGHT_RATE = 0.6\n",
    "POSITIVE_COUNT_RATE = 0.7\n",
    "FITNESS_VALUE_RATE = 1\n",
    "FITNESS_WEIGHT_RATE = 1\n",
    "FITNESS_COUNT_RATE = 1\n",
    "get_average_time(5, conditions)"
   ]
  },
  {
   "cell_type": "code",
   "execution_count": 234,
   "metadata": {},
   "outputs": [
    {
     "ename": "KeyboardInterrupt",
     "evalue": "",
     "output_type": "error",
     "traceback": [
      "\u001b[0;31m---------------------------------------------------------------------------\u001b[0m",
      "\u001b[0;31mKeyboardInterrupt\u001b[0m                         Traceback (most recent call last)",
      "Cell \u001b[0;32mIn[234], line 7\u001b[0m\n\u001b[1;32m      5\u001b[0m FITNESS_WEIGHT_RATE \u001b[38;5;241m=\u001b[39m \u001b[38;5;241m1\u001b[39m\n\u001b[1;32m      6\u001b[0m FITNESS_COUNT_RATE \u001b[38;5;241m=\u001b[39m \u001b[38;5;241m1\u001b[39m\n\u001b[0;32m----> 7\u001b[0m \u001b[43mget_average_time\u001b[49m\u001b[43m(\u001b[49m\u001b[38;5;241;43m2\u001b[39;49m\u001b[43m,\u001b[49m\u001b[43m \u001b[49m\u001b[43mconditions\u001b[49m\u001b[43m)\u001b[49m\n",
      "Cell \u001b[0;32mIn[190], line 5\u001b[0m, in \u001b[0;36mget_average_time\u001b[0;34m(count, conditions)\u001b[0m\n\u001b[1;32m      3\u001b[0m \u001b[38;5;28;01mfor\u001b[39;00m _ \u001b[38;5;129;01min\u001b[39;00m \u001b[38;5;28mrange\u001b[39m(count):\n\u001b[1;32m      4\u001b[0m     start_time \u001b[38;5;241m=\u001b[39m time\u001b[38;5;241m.\u001b[39mtime()\n\u001b[0;32m----> 5\u001b[0m     \u001b[43msolve_with_genetic\u001b[49m\u001b[43m(\u001b[49m\u001b[43mconditions\u001b[49m\u001b[43m)\u001b[49m\n\u001b[1;32m      6\u001b[0m     time_list\u001b[38;5;241m.\u001b[39mappend(time\u001b[38;5;241m.\u001b[39mtime() \u001b[38;5;241m-\u001b[39m start_time)\n\u001b[1;32m      7\u001b[0m \u001b[38;5;28;01mreturn\u001b[39;00m np\u001b[38;5;241m.\u001b[39maverage(time_list)\n",
      "Cell \u001b[0;32mIn[120], line 6\u001b[0m, in \u001b[0;36msolve_with_genetic\u001b[0;34m(conditions)\u001b[0m\n\u001b[1;32m      4\u001b[0m generation_fitness \u001b[38;5;241m=\u001b[39m calculate_generation_fitness(generation, conditions)\n\u001b[1;32m      5\u001b[0m \u001b[38;5;28;01mfor\u001b[39;00m i \u001b[38;5;129;01min\u001b[39;00m \u001b[38;5;28mrange\u001b[39m(GENERATION_STEP):\n\u001b[0;32m----> 6\u001b[0m     generation \u001b[38;5;241m=\u001b[39m \u001b[43mcreate_next_generation\u001b[49m\u001b[43m(\u001b[49m\u001b[43mgeneration\u001b[49m\u001b[43m,\u001b[49m\u001b[43m \u001b[49m\u001b[43mgeneration_fitness\u001b[49m\n\u001b[1;32m      7\u001b[0m \u001b[43m                                        \u001b[49m\u001b[43m,\u001b[49m\u001b[43m \u001b[49m\u001b[43mget_generation_size\u001b[49m\u001b[43m(\u001b[49m\u001b[43mi\u001b[49m\u001b[43m)\u001b[49m\u001b[43m)\u001b[49m\n\u001b[1;32m      8\u001b[0m     generation_fitness \u001b[38;5;241m=\u001b[39m calculate_generation_fitness(generation, conditions)\n\u001b[1;32m      9\u001b[0m     best_chromosome \u001b[38;5;241m=\u001b[39m find_best_chromosome(generation, generation_fitness)\n",
      "Cell \u001b[0;32mIn[15], line 7\u001b[0m, in \u001b[0;36mcreate_next_generation\u001b[0;34m(generation, generation_fitness, size)\u001b[0m\n\u001b[1;32m      5\u001b[0m next_generation \u001b[38;5;241m=\u001b[39m \u001b[38;5;28mlist\u001b[39m[Chromosome]()\n\u001b[1;32m      6\u001b[0m \u001b[38;5;28;01mfor\u001b[39;00m i \u001b[38;5;129;01min\u001b[39;00m \u001b[38;5;28mrange\u001b[39m(math\u001b[38;5;241m.\u001b[39mfloor(size\u001b[38;5;241m/\u001b[39m\u001b[38;5;241m2\u001b[39m)):\n\u001b[0;32m----> 7\u001b[0m     children \u001b[38;5;241m=\u001b[39m \u001b[43mcreate_children\u001b[49m\u001b[43m(\u001b[49m\u001b[43m(\u001b[49m\u001b[43mrand_choice\u001b[49m\u001b[43m[\u001b[49m\u001b[43mi\u001b[49m\u001b[38;5;241;43m*\u001b[39;49m\u001b[38;5;241;43m2\u001b[39;49m\u001b[43m]\u001b[49m\u001b[43m,\u001b[49m\u001b[43m \u001b[49m\u001b[43mrand_choice\u001b[49m\u001b[43m[\u001b[49m\u001b[43mi\u001b[49m\u001b[38;5;241;43m*\u001b[39;49m\u001b[38;5;241;43m2\u001b[39;49m\u001b[38;5;241;43m+\u001b[39;49m\u001b[38;5;241;43m1\u001b[39;49m\u001b[43m]\u001b[49m\u001b[43m)\u001b[49m\u001b[43m)\u001b[49m\n\u001b[1;32m      8\u001b[0m     next_generation\u001b[38;5;241m.\u001b[39mextend(children)\n\u001b[1;32m     10\u001b[0m \u001b[38;5;28;01mreturn\u001b[39;00m next_generation\n",
      "Cell \u001b[0;32mIn[14], line 5\u001b[0m, in \u001b[0;36mcreate_children\u001b[0;34m(pair)\u001b[0m\n\u001b[1;32m      2\u001b[0m children \u001b[38;5;241m=\u001b[39m \u001b[38;5;28mtuple\u001b[39m[Chromosome, Chromosome]()\n\u001b[1;32m      4\u001b[0m \u001b[38;5;28;01mif\u001b[39;00m HAVE_CROSSOVER:\n\u001b[0;32m----> 5\u001b[0m     children \u001b[38;5;241m=\u001b[39m \u001b[43mpair\u001b[49m\u001b[43m[\u001b[49m\u001b[38;5;241;43m0\u001b[39;49m\u001b[43m]\u001b[49m\u001b[43m \u001b[49m\u001b[38;5;241;43m+\u001b[39;49m\u001b[43m \u001b[49m\u001b[43mpair\u001b[49m\u001b[43m[\u001b[49m\u001b[38;5;241;43m1\u001b[39;49m\u001b[43m]\u001b[49m\n\u001b[1;32m      6\u001b[0m \u001b[38;5;28;01melse\u001b[39;00m:\n\u001b[1;32m      7\u001b[0m     children \u001b[38;5;241m=\u001b[39m copy\u001b[38;5;241m.\u001b[39mdeepcopy(pair)\n",
      "Cell \u001b[0;32mIn[3], line 46\u001b[0m, in \u001b[0;36mChromosome.__add__\u001b[0;34m(self, pair)\u001b[0m\n\u001b[1;32m     43\u001b[0m \u001b[38;5;28;01mdef\u001b[39;00m \u001b[38;5;21m__add__\u001b[39m(\u001b[38;5;28mself\u001b[39m, pair):\n\u001b[1;32m     44\u001b[0m     \u001b[38;5;28;01mif\u001b[39;00m random\u001b[38;5;241m.\u001b[39mchoices([\u001b[38;5;28;01mTrue\u001b[39;00m, \u001b[38;5;28;01mFalse\u001b[39;00m],\n\u001b[1;32m     45\u001b[0m                       [CROSSOVER_CHANCE,\u001b[38;5;241m1\u001b[39m \u001b[38;5;241m-\u001b[39m CROSSOVER_CHANCE])[\u001b[38;5;241m0\u001b[39m]:\n\u001b[0;32m---> 46\u001b[0m         \u001b[38;5;28;01mreturn\u001b[39;00m \u001b[38;5;28;43mself\u001b[39;49m\u001b[38;5;241;43m.\u001b[39;49m\u001b[43mcrossover\u001b[49m\u001b[43m(\u001b[49m\u001b[43mpair\u001b[49m\u001b[43m)\u001b[49m\n\u001b[1;32m     47\u001b[0m     \u001b[38;5;28;01mreturn\u001b[39;00m \u001b[38;5;28mself\u001b[39m, pair\n",
      "Cell \u001b[0;32mIn[3], line 51\u001b[0m, in \u001b[0;36mChromosome.crossover\u001b[0;34m(self, pair)\u001b[0m\n\u001b[1;32m     49\u001b[0m \u001b[38;5;28;01mdef\u001b[39;00m \u001b[38;5;21mcrossover\u001b[39m(\u001b[38;5;28mself\u001b[39m, pair):\n\u001b[1;32m     50\u001b[0m     all_active_gen, count \u001b[38;5;241m=\u001b[39m \u001b[38;5;28mself\u001b[39m\u001b[38;5;241m.\u001b[39mget_active_gen_and_number(pair)\n\u001b[0;32m---> 51\u001b[0m     child_1 \u001b[38;5;241m=\u001b[39m \u001b[38;5;28;43mself\u001b[39;49m\u001b[38;5;241;43m.\u001b[39;49m\u001b[43mcreate_gens_for_new_chromosome\u001b[49m\u001b[43m(\u001b[49m\u001b[43mall_active_gen\u001b[49m\u001b[43m,\u001b[49m\u001b[43m \u001b[49m\u001b[43mcount\u001b[49m\u001b[43m,\u001b[49m\u001b[43m \u001b[49m\u001b[43mpair\u001b[49m\u001b[43m)\u001b[49m\n\u001b[1;32m     52\u001b[0m     child_2 \u001b[38;5;241m=\u001b[39m \u001b[38;5;28mself\u001b[39m\u001b[38;5;241m.\u001b[39mcreate_gens_for_new_chromosome(all_active_gen, count, pair)\n\u001b[1;32m     54\u001b[0m     \u001b[38;5;28;01mreturn\u001b[39;00m Chromosome(child_1, \u001b[38;5;28mself\u001b[39m\u001b[38;5;241m.\u001b[39mcount_range), Chromosome(child_2, \u001b[38;5;28mself\u001b[39m\u001b[38;5;241m.\u001b[39mcount_range)\n",
      "Cell \u001b[0;32mIn[3], line 59\u001b[0m, in \u001b[0;36mChromosome.create_gens_for_new_chromosome\u001b[0;34m(self, active_gen, count, pair)\u001b[0m\n\u001b[1;32m     56\u001b[0m \u001b[38;5;28;01mdef\u001b[39;00m \u001b[38;5;21mcreate_gens_for_new_chromosome\u001b[39m(\u001b[38;5;28mself\u001b[39m, active_gen, count, pair):\n\u001b[1;32m     57\u001b[0m     new_active_gen \u001b[38;5;241m=\u001b[39m np\u001b[38;5;241m.\u001b[39mrandom\u001b[38;5;241m.\u001b[39mchoice(\u001b[38;5;28mlist\u001b[39m(active_gen\u001b[38;5;241m.\u001b[39mkeys()),\n\u001b[1;32m     58\u001b[0m                                       count[np\u001b[38;5;241m.\u001b[39mrandom\u001b[38;5;241m.\u001b[39mrandint(\u001b[38;5;241m2\u001b[39m)], replace\u001b[38;5;241m=\u001b[39m\u001b[38;5;28;01mFalse\u001b[39;00m)\n\u001b[0;32m---> 59\u001b[0m     new_gens \u001b[38;5;241m=\u001b[39m \u001b[38;5;28;43mself\u001b[39;49m\u001b[38;5;241;43m.\u001b[39;49m\u001b[43mcreate_gens_from_pair\u001b[49m\u001b[43m(\u001b[49m\u001b[43mpair\u001b[49m\u001b[43m)\u001b[49m\n\u001b[1;32m     61\u001b[0m     \u001b[38;5;28;01mfor\u001b[39;00m gen_index \u001b[38;5;129;01min\u001b[39;00m new_active_gen:\n\u001b[1;32m     62\u001b[0m         parent \u001b[38;5;241m=\u001b[39m [\u001b[38;5;28mself\u001b[39m, pair][np\u001b[38;5;241m.\u001b[39mrandom\u001b[38;5;241m.\u001b[39mrandint(\u001b[38;5;28mlen\u001b[39m(active_gen[gen_index]))]\n",
      "Cell \u001b[0;32mIn[3], line 91\u001b[0m, in \u001b[0;36mChromosome.create_gens_from_pair\u001b[0;34m(self, pair)\u001b[0m\n\u001b[1;32m     89\u001b[0m     new_gen \u001b[38;5;241m=\u001b[39m copy\u001b[38;5;241m.\u001b[39mdeepcopy(\u001b[38;5;28mself\u001b[39m\u001b[38;5;241m.\u001b[39mgens[i])\n\u001b[1;32m     90\u001b[0m \u001b[38;5;28;01melse\u001b[39;00m:\n\u001b[0;32m---> 91\u001b[0m     new_gen \u001b[38;5;241m=\u001b[39m \u001b[43mcopy\u001b[49m\u001b[38;5;241;43m.\u001b[39;49m\u001b[43mdeepcopy\u001b[49m\u001b[43m(\u001b[49m\u001b[43mpair\u001b[49m\u001b[38;5;241;43m.\u001b[39;49m\u001b[43mgens\u001b[49m\u001b[43m[\u001b[49m\u001b[43mi\u001b[49m\u001b[43m]\u001b[49m\u001b[43m)\u001b[49m\n\u001b[1;32m     92\u001b[0m new_gen\u001b[38;5;241m.\u001b[39mset_gen_status(\u001b[38;5;28;01mFalse\u001b[39;00m)\n\u001b[1;32m     93\u001b[0m new_gens\u001b[38;5;241m.\u001b[39mappend(new_gen)\n",
      "File \u001b[0;32m/usr/lib/python3.10/copy.py:172\u001b[0m, in \u001b[0;36mdeepcopy\u001b[0;34m(x, memo, _nil)\u001b[0m\n\u001b[1;32m    170\u001b[0m                 y \u001b[38;5;241m=\u001b[39m x\n\u001b[1;32m    171\u001b[0m             \u001b[38;5;28;01melse\u001b[39;00m:\n\u001b[0;32m--> 172\u001b[0m                 y \u001b[38;5;241m=\u001b[39m \u001b[43m_reconstruct\u001b[49m\u001b[43m(\u001b[49m\u001b[43mx\u001b[49m\u001b[43m,\u001b[49m\u001b[43m \u001b[49m\u001b[43mmemo\u001b[49m\u001b[43m,\u001b[49m\u001b[43m \u001b[49m\u001b[38;5;241;43m*\u001b[39;49m\u001b[43mrv\u001b[49m\u001b[43m)\u001b[49m\n\u001b[1;32m    174\u001b[0m \u001b[38;5;66;03m# If is its own copy, don't memoize.\u001b[39;00m\n\u001b[1;32m    175\u001b[0m \u001b[38;5;28;01mif\u001b[39;00m y \u001b[38;5;129;01mis\u001b[39;00m \u001b[38;5;129;01mnot\u001b[39;00m x:\n",
      "File \u001b[0;32m/usr/lib/python3.10/copy.py:271\u001b[0m, in \u001b[0;36m_reconstruct\u001b[0;34m(x, memo, func, args, state, listiter, dictiter, deepcopy)\u001b[0m\n\u001b[1;32m    269\u001b[0m \u001b[38;5;28;01mif\u001b[39;00m state \u001b[38;5;129;01mis\u001b[39;00m \u001b[38;5;129;01mnot\u001b[39;00m \u001b[38;5;28;01mNone\u001b[39;00m:\n\u001b[1;32m    270\u001b[0m     \u001b[38;5;28;01mif\u001b[39;00m deep:\n\u001b[0;32m--> 271\u001b[0m         state \u001b[38;5;241m=\u001b[39m \u001b[43mdeepcopy\u001b[49m\u001b[43m(\u001b[49m\u001b[43mstate\u001b[49m\u001b[43m,\u001b[49m\u001b[43m \u001b[49m\u001b[43mmemo\u001b[49m\u001b[43m)\u001b[49m\n\u001b[1;32m    272\u001b[0m     \u001b[38;5;28;01mif\u001b[39;00m \u001b[38;5;28mhasattr\u001b[39m(y, \u001b[38;5;124m'\u001b[39m\u001b[38;5;124m__setstate__\u001b[39m\u001b[38;5;124m'\u001b[39m):\n\u001b[1;32m    273\u001b[0m         y\u001b[38;5;241m.\u001b[39m__setstate__(state)\n",
      "File \u001b[0;32m/usr/lib/python3.10/copy.py:146\u001b[0m, in \u001b[0;36mdeepcopy\u001b[0;34m(x, memo, _nil)\u001b[0m\n\u001b[1;32m    144\u001b[0m copier \u001b[38;5;241m=\u001b[39m _deepcopy_dispatch\u001b[38;5;241m.\u001b[39mget(\u001b[38;5;28mcls\u001b[39m)\n\u001b[1;32m    145\u001b[0m \u001b[38;5;28;01mif\u001b[39;00m copier \u001b[38;5;129;01mis\u001b[39;00m \u001b[38;5;129;01mnot\u001b[39;00m \u001b[38;5;28;01mNone\u001b[39;00m:\n\u001b[0;32m--> 146\u001b[0m     y \u001b[38;5;241m=\u001b[39m \u001b[43mcopier\u001b[49m\u001b[43m(\u001b[49m\u001b[43mx\u001b[49m\u001b[43m,\u001b[49m\u001b[43m \u001b[49m\u001b[43mmemo\u001b[49m\u001b[43m)\u001b[49m\n\u001b[1;32m    147\u001b[0m \u001b[38;5;28;01melse\u001b[39;00m:\n\u001b[1;32m    148\u001b[0m     \u001b[38;5;28;01mif\u001b[39;00m \u001b[38;5;28missubclass\u001b[39m(\u001b[38;5;28mcls\u001b[39m, \u001b[38;5;28mtype\u001b[39m):\n",
      "File \u001b[0;32m/usr/lib/python3.10/copy.py:231\u001b[0m, in \u001b[0;36m_deepcopy_dict\u001b[0;34m(x, memo, deepcopy)\u001b[0m\n\u001b[1;32m    229\u001b[0m memo[\u001b[38;5;28mid\u001b[39m(x)] \u001b[38;5;241m=\u001b[39m y\n\u001b[1;32m    230\u001b[0m \u001b[38;5;28;01mfor\u001b[39;00m key, value \u001b[38;5;129;01min\u001b[39;00m x\u001b[38;5;241m.\u001b[39mitems():\n\u001b[0;32m--> 231\u001b[0m     y[deepcopy(key, memo)] \u001b[38;5;241m=\u001b[39m \u001b[43mdeepcopy\u001b[49m\u001b[43m(\u001b[49m\u001b[43mvalue\u001b[49m\u001b[43m,\u001b[49m\u001b[43m \u001b[49m\u001b[43mmemo\u001b[49m\u001b[43m)\u001b[49m\n\u001b[1;32m    232\u001b[0m \u001b[38;5;28;01mreturn\u001b[39;00m y\n",
      "File \u001b[0;32m/usr/lib/python3.10/copy.py:138\u001b[0m, in \u001b[0;36mdeepcopy\u001b[0;34m(x, memo, _nil)\u001b[0m\n\u001b[1;32m    135\u001b[0m     memo \u001b[38;5;241m=\u001b[39m {}\n\u001b[1;32m    137\u001b[0m d \u001b[38;5;241m=\u001b[39m \u001b[38;5;28mid\u001b[39m(x)\n\u001b[0;32m--> 138\u001b[0m y \u001b[38;5;241m=\u001b[39m \u001b[43mmemo\u001b[49m\u001b[38;5;241;43m.\u001b[39;49m\u001b[43mget\u001b[49m\u001b[43m(\u001b[49m\u001b[43md\u001b[49m\u001b[43m,\u001b[49m\u001b[43m \u001b[49m\u001b[43m_nil\u001b[49m\u001b[43m)\u001b[49m\n\u001b[1;32m    139\u001b[0m \u001b[38;5;28;01mif\u001b[39;00m y \u001b[38;5;129;01mis\u001b[39;00m \u001b[38;5;129;01mnot\u001b[39;00m _nil:\n\u001b[1;32m    140\u001b[0m     \u001b[38;5;28;01mreturn\u001b[39;00m y\n",
      "\u001b[0;31mKeyboardInterrupt\u001b[0m: "
     ]
    }
   ],
   "source": [
    "POSITIVE_VALUE_RATE = 1\n",
    "POSITIVE_WEIGHT_RATE = 1\n",
    "POSITIVE_COUNT_RATE = 1\n",
    "FITNESS_VALUE_RATE = 1\n",
    "FITNESS_WEIGHT_RATE = 1\n",
    "FITNESS_COUNT_RATE = 1\n",
    "# get_average_time(2, conditions)"
   ]
  },
  {
   "cell_type": "code",
   "execution_count": 239,
   "metadata": {},
   "outputs": [
    {
     "data": {
      "text/plain": [
       "1.3255104541778564"
      ]
     },
     "execution_count": 239,
     "metadata": {},
     "output_type": "execute_result"
    }
   ],
   "source": [
    "POSITIVE_VALUE_RATE = 0.1\n",
    "POSITIVE_WEIGHT_RATE = 0\n",
    "POSITIVE_COUNT_RATE = 0\n",
    "FITNESS_VALUE_RATE = 1.3\n",
    "FITNESS_WEIGHT_RATE = 1\n",
    "FITNESS_COUNT_RATE = 2\n",
    "get_average_time(5, conditions)"
   ]
  },
  {
   "cell_type": "code",
   "execution_count": 236,
   "metadata": {},
   "outputs": [
    {
     "data": {
      "text/plain": [
       "1.4998350620269776"
      ]
     },
     "execution_count": 236,
     "metadata": {},
     "output_type": "execute_result"
    }
   ],
   "source": [
    "POSITIVE_VALUE_RATE = 0.1\n",
    "POSITIVE_WEIGHT_RATE = 0\n",
    "POSITIVE_COUNT_RATE = 0\n",
    "FITNESS_VALUE_RATE = 1.3\n",
    "FITNESS_WEIGHT_RATE = 1\n",
    "FITNESS_COUNT_RATE = 1.5\n",
    "get_average_time(5, conditions)"
   ]
  },
  {
   "cell_type": "markdown",
   "metadata": {},
   "source": [
    "### increase population"
   ]
  },
  {
   "cell_type": "code",
   "execution_count": 241,
   "metadata": {},
   "outputs": [
    {
     "data": {
      "text/plain": [
       "5.869688987731934"
      ]
     },
     "execution_count": 241,
     "metadata": {},
     "output_type": "execute_result"
    }
   ],
   "source": [
    "conditions = {\"weight\": 10,\n",
    "              \"value\": 21,\n",
    "              \"count\": [3,19]}\n",
    "\n",
    "# Generation parameter\n",
    "FIRST_GENERATION_COUNT = 100\n",
    "GENERATION_STEP = 100000\n",
    "INCREASE_GENERATION_RATE = 0\n",
    "PRINT_RATE = 100\n",
    "\n",
    "# Enable feature\n",
    "PRINT_ACTIVE = False\n",
    "HAVE_CROSSOVER = True\n",
    "HAVE_MUTATION = True\n",
    "\n",
    "# Feature rate\n",
    "WIGHT_MUTATION_RATE = 0.2\n",
    "CHROMOSOME_MUTATION_RATE = 0.05\n",
    "WIGHT_MUTATION_CHANCE = 0.3\n",
    "CROSSOVER_CHANCE = 1/3\n",
    "\n",
    "MIN_WEIGHT = 0.5\n",
    "IS_WIGHT_MUTATION_IF_DEACTIVATE = True\n",
    "SWAP_CHANCE_IN_CROSSOVER = 1/5\n",
    "POSITIVE_VALUE_RATE = 0.1\n",
    "POSITIVE_WEIGHT_RATE = 0\n",
    "POSITIVE_COUNT_RATE = 0\n",
    "FITNESS_VALUE_RATE = 1\n",
    "FITNESS_WEIGHT_RATE = 1\n",
    "FITNESS_COUNT_RATE = 1\n",
    "get_average_time(5, conditions)"
   ]
  },
  {
   "cell_type": "code",
   "execution_count": 242,
   "metadata": {},
   "outputs": [
    {
     "data": {
      "text/plain": [
       "13.076809310913086"
      ]
     },
     "execution_count": 242,
     "metadata": {},
     "output_type": "execute_result"
    }
   ],
   "source": [
    "INCREASE_GENERATION_RATE = 0.1\n",
    "get_average_time(5, conditions)"
   ]
  },
  {
   "cell_type": "code",
   "execution_count": 243,
   "metadata": {},
   "outputs": [
    {
     "data": {
      "text/plain": [
       "28.052601957321166"
      ]
     },
     "execution_count": 243,
     "metadata": {},
     "output_type": "execute_result"
    }
   ],
   "source": [
    "INCREASE_GENERATION_RATE = 0.3\n",
    "get_average_time(5, conditions)"
   ]
  }
 ],
 "metadata": {
  "kernelspec": {
   "display_name": "Python 3 (ipykernel)",
   "language": "python",
   "name": "python3"
  },
  "language_info": {
   "codemirror_mode": {
    "name": "ipython",
    "version": 3
   },
   "file_extension": ".py",
   "mimetype": "text/x-python",
   "name": "python",
   "nbconvert_exporter": "python",
   "pygments_lexer": "ipython3",
   "version": "3.10.12"
  }
 },
 "nbformat": 4,
 "nbformat_minor": 2
}
